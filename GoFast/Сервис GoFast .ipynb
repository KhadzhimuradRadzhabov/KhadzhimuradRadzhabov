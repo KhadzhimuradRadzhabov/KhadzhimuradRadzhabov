{
 "cells": [
  {
   "cell_type": "markdown",
   "id": "5453522f",
   "metadata": {},
   "source": [
    "# Сервис GoFast"
   ]
  },
  {
   "cell_type": "markdown",
   "id": "1d317eb6",
   "metadata": {},
   "source": [
    "Популярный сервис аренды самокатов **GoFast** мне передал данные о некоторых пользователях из нескольких городов, а также об их поездках. Проанализируем данные и проверим некоторые гипотезы, которые могут помочь бизнесу вырасти."
   ]
  },
  {
   "cell_type": "markdown",
   "id": "a20de4be",
   "metadata": {},
   "source": [
    "Чтобы совершать поездки по городу, пользователи сервиса GoFast пользуются мобильным приложением. Сервисом можно пользоваться:\n",
    "без подписки с подпиской **Ultra**.\n"
   ]
  },
  {
   "cell_type": "markdown",
   "id": "1b91002d",
   "metadata": {},
   "source": [
    "Чтобы совершать поездки по городу, пользователи сервиса GoFast пользуются мобильным приложением. Сервисом можно пользоваться:\n",
    "\n",
    "без подписки:\n",
    "    \n",
    "* абонентская плата отсутствует;\n",
    "* стоимость одной минуты поездки — **8** рублей;\n",
    "* стоимость старта (начала поездки) — **50** рублей;\n",
    "\n",
    "с подпиской **Ultra**:\n",
    "\n",
    "* абонентская плата — **199** рублей в месяц;\n",
    "* стоимость одной минуты поездки — **6** рублей;\n",
    "* стоимость старта — **бесплатно**."
   ]
  },
  {
   "cell_type": "code",
   "execution_count": 1,
   "id": "72576667",
   "metadata": {},
   "outputs": [],
   "source": [
    "import pandas as pd"
   ]
  },
  {
   "cell_type": "markdown",
   "id": "c42cbe00",
   "metadata": {},
   "source": [
    "#### Шаг 1. Загрузка данных"
   ]
  },
  {
   "cell_type": "code",
   "execution_count": 2,
   "id": "eff9f206",
   "metadata": {},
   "outputs": [
    {
     "name": "stdout",
     "output_type": "stream",
     "text": [
      "   user_id        name  age            city subscription_type\n",
      "0        1        Кира   22          Тюмень             ultra\n",
      "1        2   Станислав   31            Омск             ultra\n",
      "2        3     Алексей   20          Москва             ultra\n",
      "3        4  Константин   26  Ростов-на-Дону             ultra\n",
      "4        5       Адель   28            Омск             ultra\n",
      "<class 'pandas.core.frame.DataFrame'>\n",
      "RangeIndex: 1565 entries, 0 to 1564\n",
      "Data columns (total 5 columns):\n",
      " #   Column             Non-Null Count  Dtype \n",
      "---  ------             --------------  ----- \n",
      " 0   user_id            1565 non-null   int64 \n",
      " 1   name               1565 non-null   object\n",
      " 2   age                1565 non-null   int64 \n",
      " 3   city               1565 non-null   object\n",
      " 4   subscription_type  1565 non-null   object\n",
      "dtypes: int64(2), object(3)\n",
      "memory usage: 61.3+ KB\n",
      " \n",
      "   user_id     distance   duration        date\n",
      "0        1  4409.919140  25.599769  2021-01-01\n",
      "1        1  2617.592153  15.816871  2021-01-18\n",
      "2        1   754.159807   6.232113  2021-04-20\n",
      "3        1  2694.783254  18.511000  2021-08-11\n",
      "4        1  4028.687306  26.265803  2021-08-28\n",
      "<class 'pandas.core.frame.DataFrame'>\n",
      "RangeIndex: 18068 entries, 0 to 18067\n",
      "Data columns (total 4 columns):\n",
      " #   Column    Non-Null Count  Dtype  \n",
      "---  ------    --------------  -----  \n",
      " 0   user_id   18068 non-null  int64  \n",
      " 1   distance  18068 non-null  float64\n",
      " 2   duration  18068 non-null  float64\n",
      " 3   date      18068 non-null  object \n",
      "dtypes: float64(2), int64(1), object(1)\n",
      "memory usage: 564.8+ KB\n",
      " \n",
      "  subscription_type  minute_price  start_ride_price  subscription_fee\n",
      "0              free             8                50                 0\n",
      "1             ultra             6                 0               199\n",
      "<class 'pandas.core.frame.DataFrame'>\n",
      "RangeIndex: 2 entries, 0 to 1\n",
      "Data columns (total 4 columns):\n",
      " #   Column             Non-Null Count  Dtype \n",
      "---  ------             --------------  ----- \n",
      " 0   subscription_type  2 non-null      object\n",
      " 1   minute_price       2 non-null      int64 \n",
      " 2   start_ride_price   2 non-null      int64 \n",
      " 3   subscription_fee   2 non-null      int64 \n",
      "dtypes: int64(3), object(1)\n",
      "memory usage: 192.0+ bytes\n"
     ]
    }
   ],
   "source": [
    "data_users = pd.read_csv('/datasets/users_go.csv')\n",
    "data_rides = pd.read_csv('/datasets/rides_go.csv')\n",
    "data_subscriptions = pd.read_csv('/datasets/subscriptions_go.csv')\n",
    "print(data_users.head())\n",
    "data_users.info()\n",
    "print(' ')\n",
    "print(data_rides.head())\n",
    "data_rides.info()\n",
    "print(' ')\n",
    "print(data_subscriptions.head())\n",
    "data_subscriptions.info()"
   ]
  },
  {
   "cell_type": "markdown",
   "id": "c151446a",
   "metadata": {},
   "source": [
    "Как мы видим на первый взгляд, данные в целом уже в хорошем виде и готовы к обработке после некоторых шагов. Нет пропусков. Возможны лишь дубликаты"
   ]
  },
  {
   "cell_type": "markdown",
   "id": "e95ebca7",
   "metadata": {},
   "source": [
    "#### Шаг 2. Предобработка данных"
   ]
  },
  {
   "cell_type": "markdown",
   "id": "f7469015",
   "metadata": {},
   "source": [
    "##### Приведем столбец date к типу даты pandas и создадим новый столбец с номером месяца на основе столбца date"
   ]
  },
  {
   "cell_type": "code",
   "execution_count": 3,
   "id": "af6d202c",
   "metadata": {},
   "outputs": [
    {
     "data": {
      "text/plain": [
       "0    1\n",
       "1    1\n",
       "2    4\n",
       "3    8\n",
       "4    8\n",
       "Name: month, dtype: int64"
      ]
     },
     "execution_count": 3,
     "metadata": {},
     "output_type": "execute_result"
    }
   ],
   "source": [
    "data_rides['date'] = pd.to_datetime(data_rides['date'], format='%Y-%m-%d')\n",
    "data_rides['month'] = data_rides['date'].dt.month\n",
    "data_rides['month'].head()"
   ]
  },
  {
   "cell_type": "markdown",
   "id": "7c0e87f4",
   "metadata": {},
   "source": [
    "##### Проверим наличие пропущенных значений и дубликатов в датафреймах. Обработаем их, если такие значения присутствуют"
   ]
  },
  {
   "cell_type": "code",
   "execution_count": 4,
   "id": "491b9647",
   "metadata": {},
   "outputs": [
    {
     "data": {
      "text/plain": [
       "31"
      ]
     },
     "execution_count": 4,
     "metadata": {},
     "output_type": "execute_result"
    }
   ],
   "source": [
    "data_users.duplicated().sum()"
   ]
  },
  {
   "cell_type": "code",
   "execution_count": 5,
   "id": "ebf38dcf",
   "metadata": {},
   "outputs": [
    {
     "data": {
      "text/plain": [
       "0"
      ]
     },
     "execution_count": 5,
     "metadata": {},
     "output_type": "execute_result"
    }
   ],
   "source": [
    "data_users = data_users.drop_duplicates()\n",
    "data_users.duplicated().sum()"
   ]
  },
  {
   "cell_type": "markdown",
   "id": "d065d61c",
   "metadata": {},
   "source": [
    "Далее проведем те же манипуляции с data_rides и data_subscriptions. Благодаря .info() мы видим, что ни в одном из датафреймов нет пропущенных значений"
   ]
  },
  {
   "cell_type": "code",
   "execution_count": 6,
   "id": "071c992d",
   "metadata": {},
   "outputs": [
    {
     "data": {
      "text/plain": [
       "0"
      ]
     },
     "execution_count": 6,
     "metadata": {},
     "output_type": "execute_result"
    }
   ],
   "source": [
    "data_rides.duplicated().sum()"
   ]
  },
  {
   "cell_type": "code",
   "execution_count": 7,
   "id": "7382b499",
   "metadata": {},
   "outputs": [
    {
     "data": {
      "text/plain": [
       "0"
      ]
     },
     "execution_count": 7,
     "metadata": {},
     "output_type": "execute_result"
    }
   ],
   "source": [
    "data_subscriptions.duplicated().sum()"
   ]
  },
  {
   "cell_type": "markdown",
   "id": "69946bca",
   "metadata": {},
   "source": [
    "Дубликаты встретились нам лишь в одной таблице из трех. Их всего 31, от них можно смело изабвляться. Теперь данные готовы к анализу."
   ]
  },
  {
   "cell_type": "markdown",
   "id": "212593c7",
   "metadata": {},
   "source": [
    "#### Шаг 3. Исследовательский анализ данных"
   ]
  },
  {
   "cell_type": "markdown",
   "id": "1735e0de",
   "metadata": {},
   "source": [
    "##### Взглянем на частоту встречаемости городов в поездках"
   ]
  },
  {
   "cell_type": "code",
   "execution_count": 8,
   "id": "aa417a5d",
   "metadata": {},
   "outputs": [
    {
     "name": "stdout",
     "output_type": "stream",
     "text": [
      "Пятигорск         219\n",
      "Екатеринбург      204\n",
      "Ростов-на-Дону    198\n",
      "Краснодар         193\n",
      "Сочи              189\n",
      "Омск              183\n",
      "Тюмень            180\n",
      "Москва            168\n",
      "Name: city, dtype: int64\n"
     ]
    },
    {
     "data": {
      "text/plain": [
       "count          1534\n",
       "unique            8\n",
       "top       Пятигорск\n",
       "freq            219\n",
       "Name: city, dtype: object"
      ]
     },
     "execution_count": 8,
     "metadata": {},
     "output_type": "execute_result"
    }
   ],
   "source": [
    "print(data_users['city'].value_counts())\n",
    "data_users['city'].describe()"
   ]
  },
  {
   "cell_type": "code",
   "execution_count": 9,
   "id": "801a12ee",
   "metadata": {},
   "outputs": [
    {
     "data": {
      "image/png": "[encoded data removed]",
      "text/plain": [
       "<Figure size 1080x360 with 1 Axes>"
      ]
     },
     "metadata": {
      "needs_background": "light"
     },
     "output_type": "display_data"
    }
   ],
   "source": [
    "import matplotlib.pyplot as plt\n",
    "\n",
    "data_users['city'].hist(figsize=(15,5), bins=50)\n",
    "plt.title('Частота встречаемости городов')\n",
    "plt.xlabel('Города')\n",
    "plt.ylabel('Количество поездок')\n",
    "plt.show()"
   ]
  },
  {
   "cell_type": "markdown",
   "id": "eebc5860",
   "metadata": {},
   "source": [
    "Пятигорск в лидерах, а Москва отстает. В остальных городах количество поездок распределены равномерно"
   ]
  },
  {
   "cell_type": "markdown",
   "id": "93bd7e16",
   "metadata": {},
   "source": [
    "##### Сравним соотношение пользователей с подпиской и без подписки"
   ]
  },
  {
   "cell_type": "code",
   "execution_count": 10,
   "id": "bc05eea3",
   "metadata": {},
   "outputs": [
    {
     "name": "stdout",
     "output_type": "stream",
     "text": [
      "Доля поездок с подпиской:  user_id              0.46\n",
      "name                 0.46\n",
      "age                  0.46\n",
      "city                 0.46\n",
      "subscription_type    0.46\n",
      "dtype: float64\n"
     ]
    },
    {
     "data": {
      "image/png": "[encoded data removed]",
      "text/plain": [
       "<Figure size 432x288 with 1 Axes>"
      ]
     },
     "metadata": {},
     "output_type": "display_data"
    },
    {
     "data": {
      "text/plain": [
       "count     1534\n",
       "unique       2\n",
       "top       free\n",
       "freq       835\n",
       "Name: subscription_type, dtype: object"
      ]
     },
     "execution_count": 10,
     "metadata": {},
     "output_type": "execute_result"
    }
   ],
   "source": [
    "print('Доля поездок с подпиской: ', (data_users.loc[data_users['subscription_type'] == 'ultra'].count() / data_users['subscription_type'].count()).round(2))\n",
    "labels = ['Доля без подписки','Доля с подпиской']\n",
    "plt.pie(data_users['subscription_type'].value_counts(), labels=labels)\n",
    "plt.show()\n",
    "data_users['subscription_type'].describe()\n"
   ]
  },
  {
   "cell_type": "code",
   "execution_count": 11,
   "id": "f549b465",
   "metadata": {},
   "outputs": [
    {
     "name": "stdout",
     "output_type": "stream",
     "text": [
      "Доля поездок без подписки:  user_id              0.54\n",
      "name                 0.54\n",
      "age                  0.54\n",
      "city                 0.54\n",
      "subscription_type    0.54\n",
      "dtype: float64\n"
     ]
    }
   ],
   "source": [
    "print('Доля поездок без подписки: ', (data_users.loc[data_users['subscription_type'] == 'free'].count() / data_users['subscription_type'].count()).round(2))"
   ]
  },
  {
   "cell_type": "markdown",
   "id": "5240596c",
   "metadata": {},
   "source": [
    "45% поездок с подпиской и 54% без подписки"
   ]
  },
  {
   "cell_type": "markdown",
   "id": "f9a7263b",
   "metadata": {},
   "source": [
    "##### Оценим возраст клиентов"
   ]
  },
  {
   "cell_type": "code",
   "execution_count": 12,
   "id": "795caf20",
   "metadata": {},
   "outputs": [
    {
     "name": "stdout",
     "output_type": "stream",
     "text": [
      "25    145\n",
      "24    132\n",
      "26    131\n",
      "23    129\n",
      "27    119\n",
      "22    119\n",
      "28    112\n",
      "21     93\n",
      "20     71\n",
      "30     68\n",
      "29     68\n",
      "31     48\n",
      "19     47\n",
      "18     46\n",
      "32     41\n",
      "33     39\n",
      "17     26\n",
      "34     19\n",
      "16     19\n",
      "35     15\n",
      "15     13\n",
      "14      9\n",
      "13      8\n",
      "36      6\n",
      "12      4\n",
      "38      3\n",
      "37      2\n",
      "39      1\n",
      "43      1\n",
      "Name: age, dtype: int64\n"
     ]
    },
    {
     "data": {
      "image/png": "[encoded data removed]",
      "text/plain": [
       "<Figure size 432x288 with 1 Axes>"
      ]
     },
     "metadata": {
      "needs_background": "light"
     },
     "output_type": "display_data"
    },
    {
     "data": {
      "text/plain": [
       "count    1534.000000\n",
       "mean       24.903520\n",
       "std         4.572367\n",
       "min        12.000000\n",
       "25%        22.000000\n",
       "50%        25.000000\n",
       "75%        28.000000\n",
       "max        43.000000\n",
       "Name: age, dtype: float64"
      ]
     },
     "execution_count": 12,
     "metadata": {},
     "output_type": "execute_result"
    }
   ],
   "source": [
    "print(data_users['age'].value_counts())\n",
    "data_users['age'].hist()\n",
    "plt.title('Возраст клиентов')\n",
    "plt.xlabel('Года')\n",
    "plt.ylabel('Количество')\n",
    "plt.show()\n",
    "data_users['age'].describe()"
   ]
  },
  {
   "cell_type": "markdown",
   "id": "679b6ce3",
   "metadata": {},
   "source": [
    "Самые частые пользователи самокатов: молодые люди 20-30 лет. Возрастые группы старше и младше встречаются реже"
   ]
  },
  {
   "cell_type": "markdown",
   "id": "995ecadf",
   "metadata": {},
   "source": [
    "##### Посмотрим на расстояние, которое пользователь преодолел за одну поездку"
   ]
  },
  {
   "cell_type": "markdown",
   "id": "7057aa0a",
   "metadata": {},
   "source": [
    "Округлим для начала расстояние до целых"
   ]
  },
  {
   "cell_type": "code",
   "execution_count": 13,
   "id": "428b6a53",
   "metadata": {},
   "outputs": [
    {
     "data": {
      "text/plain": [
       "0        4409\n",
       "1        2617\n",
       "2         754\n",
       "3        2694\n",
       "4        4028\n",
       "         ... \n",
       "18063    3781\n",
       "18064    2840\n",
       "18065    3826\n",
       "18066    2902\n",
       "18067    2371\n",
       "Name: distance, Length: 18068, dtype: int64"
      ]
     },
     "execution_count": 13,
     "metadata": {},
     "output_type": "execute_result"
    }
   ],
   "source": [
    "data_rides['distance'] = data_rides['distance'].astype('int')\n",
    "data_rides['distance']"
   ]
  },
  {
   "cell_type": "code",
   "execution_count": 14,
   "id": "a4825126",
   "metadata": {
    "scrolled": false
   },
   "outputs": [
    {
     "data": {
      "image/png": "[encoded data removed]",
      "text/plain": [
       "<Figure size 432x288 with 1 Axes>"
      ]
     },
     "metadata": {
      "needs_background": "light"
     },
     "output_type": "display_data"
    },
    {
     "data": {
      "text/plain": [
       "count    18068.000000\n",
       "mean      3070.159841\n",
       "std       1116.831548\n",
       "min          0.000000\n",
       "25%       2542.750000\n",
       "50%       3133.000000\n",
       "75%       3776.000000\n",
       "max       7211.000000\n",
       "Name: distance, dtype: float64"
      ]
     },
     "execution_count": 14,
     "metadata": {},
     "output_type": "execute_result"
    }
   ],
   "source": [
    "data_rides['distance'].hist()\n",
    "plt.title('Расстояние за 1 поездку')\n",
    "plt.xlabel('Расстояние')\n",
    "plt.ylabel('Количество')\n",
    "plt.show()\n",
    "data_rides['distance'].describe()"
   ]
  },
  {
   "cell_type": "markdown",
   "id": "2ede6dd3",
   "metadata": {},
   "source": [
    "В среднем клиенты проезжают около 3-х километров"
   ]
  },
  {
   "cell_type": "markdown",
   "id": "03db3b7a",
   "metadata": {},
   "source": [
    "##### Рассмотрим продолжительость поездок "
   ]
  },
  {
   "cell_type": "markdown",
   "id": "6d0dbd16",
   "metadata": {},
   "source": [
    "Приведем для начала столбец в надлежащий вид"
   ]
  },
  {
   "cell_type": "code",
   "execution_count": 15,
   "id": "e231ae97",
   "metadata": {},
   "outputs": [
    {
     "data": {
      "image/png": "[encoded data removed]",
      "text/plain": [
       "<Figure size 432x288 with 1 Axes>"
      ]
     },
     "metadata": {
      "needs_background": "light"
     },
     "output_type": "display_data"
    },
    {
     "data": {
      "text/plain": [
       "count    18068.000000\n",
       "mean        17.805011\n",
       "std          6.091051\n",
       "min          0.500000\n",
       "25%         13.597563\n",
       "50%         17.678395\n",
       "75%         21.724800\n",
       "max         40.823963\n",
       "Name: duration, dtype: float64"
      ]
     },
     "execution_count": 15,
     "metadata": {},
     "output_type": "execute_result"
    }
   ],
   "source": [
    "data_rides['duration'].hist()\n",
    "plt.title('Продолжительность поездок')\n",
    "plt.xlabel('Время')\n",
    "plt.ylabel('Количество поездок')\n",
    "plt.show()\n",
    "data_rides['duration'].describe()"
   ]
  },
  {
   "cell_type": "markdown",
   "id": "71bbd728",
   "metadata": {},
   "source": [
    "В среднем поездка на самокате занимает около 17 минут"
   ]
  },
  {
   "cell_type": "markdown",
   "id": "4ef51331",
   "metadata": {},
   "source": [
    "#### Шаг 4. Объединение данных"
   ]
  },
  {
   "cell_type": "markdown",
   "id": "a9053002",
   "metadata": {},
   "source": [
    "##### Объединим данные о пользователях, поездках и подписках в один датафрейм.  "
   ]
  },
  {
   "cell_type": "code",
   "execution_count": 16,
   "id": "6bf288b5",
   "metadata": {},
   "outputs": [
    {
     "data": {
      "text/html": [
       "<div>\n",
       "<style scoped>\n",
       "    .dataframe tbody tr th:only-of-type {\n",
       "        vertical-align: middle;\n",
       "    }\n",
       "\n",
       "    .dataframe tbody tr th {\n",
       "        vertical-align: top;\n",
       "    }\n",
       "\n",
       "    .dataframe thead th {\n",
       "        text-align: right;\n",
       "    }\n",
       "</style>\n",
       "<table border=\"1\" class=\"dataframe\">\n",
       "  <thead>\n",
       "    <tr style=\"text-align: right;\">\n",
       "      <th></th>\n",
       "      <th>user_id</th>\n",
       "      <th>name</th>\n",
       "      <th>age</th>\n",
       "      <th>city</th>\n",
       "      <th>subscription_type</th>\n",
       "      <th>distance</th>\n",
       "      <th>duration</th>\n",
       "      <th>date</th>\n",
       "      <th>month</th>\n",
       "    </tr>\n",
       "  </thead>\n",
       "  <tbody>\n",
       "    <tr>\n",
       "      <th>0</th>\n",
       "      <td>1</td>\n",
       "      <td>Кира</td>\n",
       "      <td>22</td>\n",
       "      <td>Тюмень</td>\n",
       "      <td>ultra</td>\n",
       "      <td>4409</td>\n",
       "      <td>25.599769</td>\n",
       "      <td>2021-01-01</td>\n",
       "      <td>1</td>\n",
       "    </tr>\n",
       "    <tr>\n",
       "      <th>1</th>\n",
       "      <td>1</td>\n",
       "      <td>Кира</td>\n",
       "      <td>22</td>\n",
       "      <td>Тюмень</td>\n",
       "      <td>ultra</td>\n",
       "      <td>2617</td>\n",
       "      <td>15.816871</td>\n",
       "      <td>2021-01-18</td>\n",
       "      <td>1</td>\n",
       "    </tr>\n",
       "    <tr>\n",
       "      <th>2</th>\n",
       "      <td>1</td>\n",
       "      <td>Кира</td>\n",
       "      <td>22</td>\n",
       "      <td>Тюмень</td>\n",
       "      <td>ultra</td>\n",
       "      <td>754</td>\n",
       "      <td>6.232113</td>\n",
       "      <td>2021-04-20</td>\n",
       "      <td>4</td>\n",
       "    </tr>\n",
       "    <tr>\n",
       "      <th>3</th>\n",
       "      <td>1</td>\n",
       "      <td>Кира</td>\n",
       "      <td>22</td>\n",
       "      <td>Тюмень</td>\n",
       "      <td>ultra</td>\n",
       "      <td>2694</td>\n",
       "      <td>18.511000</td>\n",
       "      <td>2021-08-11</td>\n",
       "      <td>8</td>\n",
       "    </tr>\n",
       "    <tr>\n",
       "      <th>4</th>\n",
       "      <td>1</td>\n",
       "      <td>Кира</td>\n",
       "      <td>22</td>\n",
       "      <td>Тюмень</td>\n",
       "      <td>ultra</td>\n",
       "      <td>4028</td>\n",
       "      <td>26.265803</td>\n",
       "      <td>2021-08-28</td>\n",
       "      <td>8</td>\n",
       "    </tr>\n",
       "  </tbody>\n",
       "</table>\n",
       "</div>"
      ],
      "text/plain": [
       "   user_id  name  age    city subscription_type  distance   duration  \\\n",
       "0        1  Кира   22  Тюмень             ultra      4409  25.599769   \n",
       "1        1  Кира   22  Тюмень             ultra      2617  15.816871   \n",
       "2        1  Кира   22  Тюмень             ultra       754   6.232113   \n",
       "3        1  Кира   22  Тюмень             ultra      2694  18.511000   \n",
       "4        1  Кира   22  Тюмень             ultra      4028  26.265803   \n",
       "\n",
       "        date  month  \n",
       "0 2021-01-01      1  \n",
       "1 2021-01-18      1  \n",
       "2 2021-04-20      4  \n",
       "3 2021-08-11      8  \n",
       "4 2021-08-28      8  "
      ]
     },
     "execution_count": 16,
     "metadata": {},
     "output_type": "execute_result"
    }
   ],
   "source": [
    "data_merge = data_users.merge(data_rides, on='user_id', how='left')\n",
    "data_merge.head()"
   ]
  },
  {
   "cell_type": "markdown",
   "id": "aaea5843",
   "metadata": {},
   "source": [
    "##### Создадим ещё два датафрейма из датафрейма, созданного на этапе 4.1\n",
    "- c данными о пользователях без подписки\n",
    "- c данными о пользователях с подпиской"
   ]
  },
  {
   "cell_type": "code",
   "execution_count": 17,
   "id": "da668763",
   "metadata": {},
   "outputs": [
    {
     "data": {
      "text/html": [
       "<div>\n",
       "<style scoped>\n",
       "    .dataframe tbody tr th:only-of-type {\n",
       "        vertical-align: middle;\n",
       "    }\n",
       "\n",
       "    .dataframe tbody tr th {\n",
       "        vertical-align: top;\n",
       "    }\n",
       "\n",
       "    .dataframe thead th {\n",
       "        text-align: right;\n",
       "    }\n",
       "</style>\n",
       "<table border=\"1\" class=\"dataframe\">\n",
       "  <thead>\n",
       "    <tr style=\"text-align: right;\">\n",
       "      <th></th>\n",
       "      <th>user_id</th>\n",
       "      <th>name</th>\n",
       "      <th>age</th>\n",
       "      <th>city</th>\n",
       "      <th>subscription_type</th>\n",
       "      <th>distance</th>\n",
       "      <th>duration</th>\n",
       "      <th>date</th>\n",
       "      <th>month</th>\n",
       "    </tr>\n",
       "  </thead>\n",
       "  <tbody>\n",
       "    <tr>\n",
       "      <th>6500</th>\n",
       "      <td>700</td>\n",
       "      <td>Айдар</td>\n",
       "      <td>22</td>\n",
       "      <td>Омск</td>\n",
       "      <td>free</td>\n",
       "      <td>2515</td>\n",
       "      <td>14.944286</td>\n",
       "      <td>2021-01-02</td>\n",
       "      <td>1</td>\n",
       "    </tr>\n",
       "    <tr>\n",
       "      <th>6501</th>\n",
       "      <td>700</td>\n",
       "      <td>Айдар</td>\n",
       "      <td>22</td>\n",
       "      <td>Омск</td>\n",
       "      <td>free</td>\n",
       "      <td>846</td>\n",
       "      <td>16.234663</td>\n",
       "      <td>2021-02-01</td>\n",
       "      <td>2</td>\n",
       "    </tr>\n",
       "    <tr>\n",
       "      <th>6502</th>\n",
       "      <td>700</td>\n",
       "      <td>Айдар</td>\n",
       "      <td>22</td>\n",
       "      <td>Омск</td>\n",
       "      <td>free</td>\n",
       "      <td>4004</td>\n",
       "      <td>20.016628</td>\n",
       "      <td>2021-02-04</td>\n",
       "      <td>2</td>\n",
       "    </tr>\n",
       "    <tr>\n",
       "      <th>6503</th>\n",
       "      <td>700</td>\n",
       "      <td>Айдар</td>\n",
       "      <td>22</td>\n",
       "      <td>Омск</td>\n",
       "      <td>free</td>\n",
       "      <td>1205</td>\n",
       "      <td>9.782872</td>\n",
       "      <td>2021-02-10</td>\n",
       "      <td>2</td>\n",
       "    </tr>\n",
       "    <tr>\n",
       "      <th>6504</th>\n",
       "      <td>700</td>\n",
       "      <td>Айдар</td>\n",
       "      <td>22</td>\n",
       "      <td>Омск</td>\n",
       "      <td>free</td>\n",
       "      <td>3047</td>\n",
       "      <td>17.427673</td>\n",
       "      <td>2021-02-14</td>\n",
       "      <td>2</td>\n",
       "    </tr>\n",
       "    <tr>\n",
       "      <th>...</th>\n",
       "      <td>...</td>\n",
       "      <td>...</td>\n",
       "      <td>...</td>\n",
       "      <td>...</td>\n",
       "      <td>...</td>\n",
       "      <td>...</td>\n",
       "      <td>...</td>\n",
       "      <td>...</td>\n",
       "      <td>...</td>\n",
       "    </tr>\n",
       "    <tr>\n",
       "      <th>18063</th>\n",
       "      <td>1534</td>\n",
       "      <td>Альберт</td>\n",
       "      <td>25</td>\n",
       "      <td>Краснодар</td>\n",
       "      <td>free</td>\n",
       "      <td>3781</td>\n",
       "      <td>19.822962</td>\n",
       "      <td>2021-11-04</td>\n",
       "      <td>11</td>\n",
       "    </tr>\n",
       "    <tr>\n",
       "      <th>18064</th>\n",
       "      <td>1534</td>\n",
       "      <td>Альберт</td>\n",
       "      <td>25</td>\n",
       "      <td>Краснодар</td>\n",
       "      <td>free</td>\n",
       "      <td>2840</td>\n",
       "      <td>21.409799</td>\n",
       "      <td>2021-11-16</td>\n",
       "      <td>11</td>\n",
       "    </tr>\n",
       "    <tr>\n",
       "      <th>18065</th>\n",
       "      <td>1534</td>\n",
       "      <td>Альберт</td>\n",
       "      <td>25</td>\n",
       "      <td>Краснодар</td>\n",
       "      <td>free</td>\n",
       "      <td>3826</td>\n",
       "      <td>18.435051</td>\n",
       "      <td>2021-11-18</td>\n",
       "      <td>11</td>\n",
       "    </tr>\n",
       "    <tr>\n",
       "      <th>18066</th>\n",
       "      <td>1534</td>\n",
       "      <td>Альберт</td>\n",
       "      <td>25</td>\n",
       "      <td>Краснодар</td>\n",
       "      <td>free</td>\n",
       "      <td>2902</td>\n",
       "      <td>16.674362</td>\n",
       "      <td>2021-11-27</td>\n",
       "      <td>11</td>\n",
       "    </tr>\n",
       "    <tr>\n",
       "      <th>18067</th>\n",
       "      <td>1534</td>\n",
       "      <td>Альберт</td>\n",
       "      <td>25</td>\n",
       "      <td>Краснодар</td>\n",
       "      <td>free</td>\n",
       "      <td>2371</td>\n",
       "      <td>15.893917</td>\n",
       "      <td>2021-12-29</td>\n",
       "      <td>12</td>\n",
       "    </tr>\n",
       "  </tbody>\n",
       "</table>\n",
       "<p>11568 rows × 9 columns</p>\n",
       "</div>"
      ],
      "text/plain": [
       "       user_id     name  age       city subscription_type  distance  \\\n",
       "6500       700    Айдар   22       Омск              free      2515   \n",
       "6501       700    Айдар   22       Омск              free       846   \n",
       "6502       700    Айдар   22       Омск              free      4004   \n",
       "6503       700    Айдар   22       Омск              free      1205   \n",
       "6504       700    Айдар   22       Омск              free      3047   \n",
       "...        ...      ...  ...        ...               ...       ...   \n",
       "18063     1534  Альберт   25  Краснодар              free      3781   \n",
       "18064     1534  Альберт   25  Краснодар              free      2840   \n",
       "18065     1534  Альберт   25  Краснодар              free      3826   \n",
       "18066     1534  Альберт   25  Краснодар              free      2902   \n",
       "18067     1534  Альберт   25  Краснодар              free      2371   \n",
       "\n",
       "        duration       date  month  \n",
       "6500   14.944286 2021-01-02      1  \n",
       "6501   16.234663 2021-02-01      2  \n",
       "6502   20.016628 2021-02-04      2  \n",
       "6503    9.782872 2021-02-10      2  \n",
       "6504   17.427673 2021-02-14      2  \n",
       "...          ...        ...    ...  \n",
       "18063  19.822962 2021-11-04     11  \n",
       "18064  21.409799 2021-11-16     11  \n",
       "18065  18.435051 2021-11-18     11  \n",
       "18066  16.674362 2021-11-27     11  \n",
       "18067  15.893917 2021-12-29     12  \n",
       "\n",
       "[11568 rows x 9 columns]"
      ]
     },
     "execution_count": 17,
     "metadata": {},
     "output_type": "execute_result"
    }
   ],
   "source": [
    "data_merge_free = data_merge[data_merge['subscription_type'] == 'free']\n",
    "data_merge_free"
   ]
  },
  {
   "cell_type": "code",
   "execution_count": 18,
   "id": "d8484e6d",
   "metadata": {},
   "outputs": [
    {
     "data": {
      "text/html": [
       "<div>\n",
       "<style scoped>\n",
       "    .dataframe tbody tr th:only-of-type {\n",
       "        vertical-align: middle;\n",
       "    }\n",
       "\n",
       "    .dataframe tbody tr th {\n",
       "        vertical-align: top;\n",
       "    }\n",
       "\n",
       "    .dataframe thead th {\n",
       "        text-align: right;\n",
       "    }\n",
       "</style>\n",
       "<table border=\"1\" class=\"dataframe\">\n",
       "  <thead>\n",
       "    <tr style=\"text-align: right;\">\n",
       "      <th></th>\n",
       "      <th>user_id</th>\n",
       "      <th>name</th>\n",
       "      <th>age</th>\n",
       "      <th>city</th>\n",
       "      <th>subscription_type</th>\n",
       "      <th>distance</th>\n",
       "      <th>duration</th>\n",
       "      <th>date</th>\n",
       "      <th>month</th>\n",
       "    </tr>\n",
       "  </thead>\n",
       "  <tbody>\n",
       "    <tr>\n",
       "      <th>0</th>\n",
       "      <td>1</td>\n",
       "      <td>Кира</td>\n",
       "      <td>22</td>\n",
       "      <td>Тюмень</td>\n",
       "      <td>ultra</td>\n",
       "      <td>4409</td>\n",
       "      <td>25.599769</td>\n",
       "      <td>2021-01-01</td>\n",
       "      <td>1</td>\n",
       "    </tr>\n",
       "    <tr>\n",
       "      <th>1</th>\n",
       "      <td>1</td>\n",
       "      <td>Кира</td>\n",
       "      <td>22</td>\n",
       "      <td>Тюмень</td>\n",
       "      <td>ultra</td>\n",
       "      <td>2617</td>\n",
       "      <td>15.816871</td>\n",
       "      <td>2021-01-18</td>\n",
       "      <td>1</td>\n",
       "    </tr>\n",
       "    <tr>\n",
       "      <th>2</th>\n",
       "      <td>1</td>\n",
       "      <td>Кира</td>\n",
       "      <td>22</td>\n",
       "      <td>Тюмень</td>\n",
       "      <td>ultra</td>\n",
       "      <td>754</td>\n",
       "      <td>6.232113</td>\n",
       "      <td>2021-04-20</td>\n",
       "      <td>4</td>\n",
       "    </tr>\n",
       "    <tr>\n",
       "      <th>3</th>\n",
       "      <td>1</td>\n",
       "      <td>Кира</td>\n",
       "      <td>22</td>\n",
       "      <td>Тюмень</td>\n",
       "      <td>ultra</td>\n",
       "      <td>2694</td>\n",
       "      <td>18.511000</td>\n",
       "      <td>2021-08-11</td>\n",
       "      <td>8</td>\n",
       "    </tr>\n",
       "    <tr>\n",
       "      <th>4</th>\n",
       "      <td>1</td>\n",
       "      <td>Кира</td>\n",
       "      <td>22</td>\n",
       "      <td>Тюмень</td>\n",
       "      <td>ultra</td>\n",
       "      <td>4028</td>\n",
       "      <td>26.265803</td>\n",
       "      <td>2021-08-28</td>\n",
       "      <td>8</td>\n",
       "    </tr>\n",
       "    <tr>\n",
       "      <th>...</th>\n",
       "      <td>...</td>\n",
       "      <td>...</td>\n",
       "      <td>...</td>\n",
       "      <td>...</td>\n",
       "      <td>...</td>\n",
       "      <td>...</td>\n",
       "      <td>...</td>\n",
       "      <td>...</td>\n",
       "      <td>...</td>\n",
       "    </tr>\n",
       "    <tr>\n",
       "      <th>6495</th>\n",
       "      <td>699</td>\n",
       "      <td>Оксана</td>\n",
       "      <td>22</td>\n",
       "      <td>Москва</td>\n",
       "      <td>ultra</td>\n",
       "      <td>3973</td>\n",
       "      <td>24.671163</td>\n",
       "      <td>2021-08-29</td>\n",
       "      <td>8</td>\n",
       "    </tr>\n",
       "    <tr>\n",
       "      <th>6496</th>\n",
       "      <td>699</td>\n",
       "      <td>Оксана</td>\n",
       "      <td>22</td>\n",
       "      <td>Москва</td>\n",
       "      <td>ultra</td>\n",
       "      <td>3288</td>\n",
       "      <td>15.892886</td>\n",
       "      <td>2021-09-12</td>\n",
       "      <td>9</td>\n",
       "    </tr>\n",
       "    <tr>\n",
       "      <th>6497</th>\n",
       "      <td>699</td>\n",
       "      <td>Оксана</td>\n",
       "      <td>22</td>\n",
       "      <td>Москва</td>\n",
       "      <td>ultra</td>\n",
       "      <td>3076</td>\n",
       "      <td>14.389525</td>\n",
       "      <td>2021-09-26</td>\n",
       "      <td>9</td>\n",
       "    </tr>\n",
       "    <tr>\n",
       "      <th>6498</th>\n",
       "      <td>699</td>\n",
       "      <td>Оксана</td>\n",
       "      <td>22</td>\n",
       "      <td>Москва</td>\n",
       "      <td>ultra</td>\n",
       "      <td>4707</td>\n",
       "      <td>15.839579</td>\n",
       "      <td>2021-10-17</td>\n",
       "      <td>10</td>\n",
       "    </tr>\n",
       "    <tr>\n",
       "      <th>6499</th>\n",
       "      <td>699</td>\n",
       "      <td>Оксана</td>\n",
       "      <td>22</td>\n",
       "      <td>Москва</td>\n",
       "      <td>ultra</td>\n",
       "      <td>3202</td>\n",
       "      <td>25.217345</td>\n",
       "      <td>2021-12-03</td>\n",
       "      <td>12</td>\n",
       "    </tr>\n",
       "  </tbody>\n",
       "</table>\n",
       "<p>6500 rows × 9 columns</p>\n",
       "</div>"
      ],
      "text/plain": [
       "      user_id    name  age    city subscription_type  distance   duration  \\\n",
       "0           1    Кира   22  Тюмень             ultra      4409  25.599769   \n",
       "1           1    Кира   22  Тюмень             ultra      2617  15.816871   \n",
       "2           1    Кира   22  Тюмень             ultra       754   6.232113   \n",
       "3           1    Кира   22  Тюмень             ultra      2694  18.511000   \n",
       "4           1    Кира   22  Тюмень             ultra      4028  26.265803   \n",
       "...       ...     ...  ...     ...               ...       ...        ...   \n",
       "6495      699  Оксана   22  Москва             ultra      3973  24.671163   \n",
       "6496      699  Оксана   22  Москва             ultra      3288  15.892886   \n",
       "6497      699  Оксана   22  Москва             ultra      3076  14.389525   \n",
       "6498      699  Оксана   22  Москва             ultra      4707  15.839579   \n",
       "6499      699  Оксана   22  Москва             ultra      3202  25.217345   \n",
       "\n",
       "           date  month  \n",
       "0    2021-01-01      1  \n",
       "1    2021-01-18      1  \n",
       "2    2021-04-20      4  \n",
       "3    2021-08-11      8  \n",
       "4    2021-08-28      8  \n",
       "...         ...    ...  \n",
       "6495 2021-08-29      8  \n",
       "6496 2021-09-12      9  \n",
       "6497 2021-09-26      9  \n",
       "6498 2021-10-17     10  \n",
       "6499 2021-12-03     12  \n",
       "\n",
       "[6500 rows x 9 columns]"
      ]
     },
     "execution_count": 18,
     "metadata": {},
     "output_type": "execute_result"
    }
   ],
   "source": [
    "data_merge_ultra = data_merge[data_merge['subscription_type'] == 'ultra']\n",
    "data_merge_ultra"
   ]
  },
  {
   "cell_type": "markdown",
   "id": "59e14d62",
   "metadata": {},
   "source": [
    "##### Визуализируем информацию о расстоянии и времени поездок для пользователей обеих категорий. "
   ]
  },
  {
   "cell_type": "code",
   "execution_count": 19,
   "id": "ed269e00",
   "metadata": {},
   "outputs": [
    {
     "data": {
      "image/png": "[encoded data removed]",
      "text/plain": [
       "<Figure size 576x216 with 1 Axes>"
      ]
     },
     "metadata": {
      "needs_background": "light"
     },
     "output_type": "display_data"
    },
    {
     "data": {
      "text/html": [
       "<div>\n",
       "<style scoped>\n",
       "    .dataframe tbody tr th:only-of-type {\n",
       "        vertical-align: middle;\n",
       "    }\n",
       "\n",
       "    .dataframe tbody tr th {\n",
       "        vertical-align: top;\n",
       "    }\n",
       "\n",
       "    .dataframe thead th {\n",
       "        text-align: right;\n",
       "    }\n",
       "</style>\n",
       "<table border=\"1\" class=\"dataframe\">\n",
       "  <thead>\n",
       "    <tr style=\"text-align: right;\">\n",
       "      <th></th>\n",
       "      <th>user_id</th>\n",
       "      <th>age</th>\n",
       "      <th>distance</th>\n",
       "      <th>duration</th>\n",
       "      <th>month</th>\n",
       "    </tr>\n",
       "  </thead>\n",
       "  <tbody>\n",
       "    <tr>\n",
       "      <th>count</th>\n",
       "      <td>11568.000000</td>\n",
       "      <td>11568.000000</td>\n",
       "      <td>11568.000000</td>\n",
       "      <td>11568.000000</td>\n",
       "      <td>11568.000000</td>\n",
       "    </tr>\n",
       "    <tr>\n",
       "      <th>mean</th>\n",
       "      <td>1120.527230</td>\n",
       "      <td>24.893326</td>\n",
       "      <td>3044.992911</td>\n",
       "      <td>17.390909</td>\n",
       "      <td>6.522994</td>\n",
       "    </tr>\n",
       "    <tr>\n",
       "      <th>std</th>\n",
       "      <td>241.165628</td>\n",
       "      <td>4.481100</td>\n",
       "      <td>1246.174341</td>\n",
       "      <td>6.326803</td>\n",
       "      <td>3.449770</td>\n",
       "    </tr>\n",
       "    <tr>\n",
       "      <th>min</th>\n",
       "      <td>700.000000</td>\n",
       "      <td>12.000000</td>\n",
       "      <td>0.000000</td>\n",
       "      <td>0.500000</td>\n",
       "      <td>1.000000</td>\n",
       "    </tr>\n",
       "    <tr>\n",
       "      <th>25%</th>\n",
       "      <td>915.000000</td>\n",
       "      <td>22.000000</td>\n",
       "      <td>2366.000000</td>\n",
       "      <td>12.958437</td>\n",
       "      <td>4.000000</td>\n",
       "    </tr>\n",
       "    <tr>\n",
       "      <th>50%</th>\n",
       "      <td>1123.000000</td>\n",
       "      <td>25.000000</td>\n",
       "      <td>3114.000000</td>\n",
       "      <td>17.326890</td>\n",
       "      <td>7.000000</td>\n",
       "    </tr>\n",
       "    <tr>\n",
       "      <th>75%</th>\n",
       "      <td>1328.000000</td>\n",
       "      <td>28.000000</td>\n",
       "      <td>3905.000000</td>\n",
       "      <td>21.594071</td>\n",
       "      <td>9.000000</td>\n",
       "    </tr>\n",
       "    <tr>\n",
       "      <th>max</th>\n",
       "      <td>1534.000000</td>\n",
       "      <td>43.000000</td>\n",
       "      <td>7211.000000</td>\n",
       "      <td>34.948498</td>\n",
       "      <td>12.000000</td>\n",
       "    </tr>\n",
       "  </tbody>\n",
       "</table>\n",
       "</div>"
      ],
      "text/plain": [
       "            user_id           age      distance      duration         month\n",
       "count  11568.000000  11568.000000  11568.000000  11568.000000  11568.000000\n",
       "mean    1120.527230     24.893326   3044.992911     17.390909      6.522994\n",
       "std      241.165628      4.481100   1246.174341      6.326803      3.449770\n",
       "min      700.000000     12.000000      0.000000      0.500000      1.000000\n",
       "25%      915.000000     22.000000   2366.000000     12.958437      4.000000\n",
       "50%     1123.000000     25.000000   3114.000000     17.326890      7.000000\n",
       "75%     1328.000000     28.000000   3905.000000     21.594071      9.000000\n",
       "max     1534.000000     43.000000   7211.000000     34.948498     12.000000"
      ]
     },
     "execution_count": 19,
     "metadata": {},
     "output_type": "execute_result"
    }
   ],
   "source": [
    "data_merge_free['distance'].hist(figsize=(8,3)) #смотрим на гистограмму расстояния поездок без подписки\n",
    "plt.title('Гистограмма расстояния поездок без подписки')\n",
    "plt.xlabel('Расстояние')\n",
    "plt.ylabel('Количество поездок')\n",
    "plt.show()\n",
    "data_merge_free.describe()"
   ]
  },
  {
   "cell_type": "code",
   "execution_count": 20,
   "id": "1812ebca",
   "metadata": {},
   "outputs": [
    {
     "data": {
      "image/png": "[encoded data removed]",
      "text/plain": [
       "<Figure size 576x216 with 1 Axes>"
      ]
     },
     "metadata": {
      "needs_background": "light"
     },
     "output_type": "display_data"
    }
   ],
   "source": [
    "data_merge_free['duration'].hist(figsize=(8,3)) #смотрим на гистограмму времени поездок без подписки\n",
    "plt.title('Гистограмма времени поездок без подписки')\n",
    "plt.xlabel('Время')\n",
    "plt.ylabel('Количество поездок')\n",
    "plt.show()"
   ]
  },
  {
   "cell_type": "code",
   "execution_count": 21,
   "id": "5d071ba4",
   "metadata": {},
   "outputs": [
    {
     "data": {
      "image/png": "[encoded data removed]",
      "text/plain": [
       "<Figure size 576x216 with 1 Axes>"
      ]
     },
     "metadata": {
      "needs_background": "light"
     },
     "output_type": "display_data"
    },
    {
     "data": {
      "text/html": [
       "<div>\n",
       "<style scoped>\n",
       "    .dataframe tbody tr th:only-of-type {\n",
       "        vertical-align: middle;\n",
       "    }\n",
       "\n",
       "    .dataframe tbody tr th {\n",
       "        vertical-align: top;\n",
       "    }\n",
       "\n",
       "    .dataframe thead th {\n",
       "        text-align: right;\n",
       "    }\n",
       "</style>\n",
       "<table border=\"1\" class=\"dataframe\">\n",
       "  <thead>\n",
       "    <tr style=\"text-align: right;\">\n",
       "      <th></th>\n",
       "      <th>user_id</th>\n",
       "      <th>age</th>\n",
       "      <th>distance</th>\n",
       "      <th>duration</th>\n",
       "      <th>month</th>\n",
       "    </tr>\n",
       "  </thead>\n",
       "  <tbody>\n",
       "    <tr>\n",
       "      <th>count</th>\n",
       "      <td>6500.000000</td>\n",
       "      <td>6500.000000</td>\n",
       "      <td>6500.000000</td>\n",
       "      <td>6500.000000</td>\n",
       "      <td>6500.000000</td>\n",
       "    </tr>\n",
       "    <tr>\n",
       "      <th>mean</th>\n",
       "      <td>348.725385</td>\n",
       "      <td>24.892615</td>\n",
       "      <td>3114.949231</td>\n",
       "      <td>18.541985</td>\n",
       "      <td>6.422308</td>\n",
       "    </tr>\n",
       "    <tr>\n",
       "      <th>std</th>\n",
       "      <td>201.099339</td>\n",
       "      <td>4.757208</td>\n",
       "      <td>836.894838</td>\n",
       "      <td>5.572048</td>\n",
       "      <td>3.414616</td>\n",
       "    </tr>\n",
       "    <tr>\n",
       "      <th>min</th>\n",
       "      <td>1.000000</td>\n",
       "      <td>12.000000</td>\n",
       "      <td>244.000000</td>\n",
       "      <td>3.760353</td>\n",
       "      <td>1.000000</td>\n",
       "    </tr>\n",
       "    <tr>\n",
       "      <th>25%</th>\n",
       "      <td>175.000000</td>\n",
       "      <td>22.000000</td>\n",
       "      <td>2785.000000</td>\n",
       "      <td>14.524654</td>\n",
       "      <td>4.000000</td>\n",
       "    </tr>\n",
       "    <tr>\n",
       "      <th>50%</th>\n",
       "      <td>351.000000</td>\n",
       "      <td>25.000000</td>\n",
       "      <td>3148.000000</td>\n",
       "      <td>18.178153</td>\n",
       "      <td>6.000000</td>\n",
       "    </tr>\n",
       "    <tr>\n",
       "      <th>75%</th>\n",
       "      <td>525.000000</td>\n",
       "      <td>28.000000</td>\n",
       "      <td>3560.000000</td>\n",
       "      <td>21.884129</td>\n",
       "      <td>9.000000</td>\n",
       "    </tr>\n",
       "    <tr>\n",
       "      <th>max</th>\n",
       "      <td>699.000000</td>\n",
       "      <td>38.000000</td>\n",
       "      <td>5699.000000</td>\n",
       "      <td>40.823963</td>\n",
       "      <td>12.000000</td>\n",
       "    </tr>\n",
       "  </tbody>\n",
       "</table>\n",
       "</div>"
      ],
      "text/plain": [
       "           user_id          age     distance     duration        month\n",
       "count  6500.000000  6500.000000  6500.000000  6500.000000  6500.000000\n",
       "mean    348.725385    24.892615  3114.949231    18.541985     6.422308\n",
       "std     201.099339     4.757208   836.894838     5.572048     3.414616\n",
       "min       1.000000    12.000000   244.000000     3.760353     1.000000\n",
       "25%     175.000000    22.000000  2785.000000    14.524654     4.000000\n",
       "50%     351.000000    25.000000  3148.000000    18.178153     6.000000\n",
       "75%     525.000000    28.000000  3560.000000    21.884129     9.000000\n",
       "max     699.000000    38.000000  5699.000000    40.823963    12.000000"
      ]
     },
     "execution_count": 21,
     "metadata": {},
     "output_type": "execute_result"
    }
   ],
   "source": [
    "data_merge_ultra['distance'].hist(figsize=(8,3)) #смотрим на гистограмму расстояния поездок c подпиской\n",
    "plt.title('Гистограмма расстояния поездок c подпиской')\n",
    "plt.xlabel('Расстояние')\n",
    "plt.ylabel('Количество поездок')\n",
    "plt.show()\n",
    "data_merge_ultra.describe()"
   ]
  },
  {
   "cell_type": "code",
   "execution_count": 22,
   "id": "6d602103",
   "metadata": {},
   "outputs": [
    {
     "data": {
      "image/png": "[encoded data removed]",
      "text/plain": [
       "<Figure size 576x216 with 1 Axes>"
      ]
     },
     "metadata": {
      "needs_background": "light"
     },
     "output_type": "display_data"
    }
   ],
   "source": [
    "data_merge_ultra['duration'].hist(figsize=(8,3)) #смотрим на гистограмму времени поездок с подпиской\n",
    "plt.title('Гистограмма времени поездок с подпиской')\n",
    "plt.xlabel('Время')\n",
    "plt.ylabel('Количество поездок')\n",
    "plt.show()"
   ]
  },
  {
   "cell_type": "markdown",
   "id": "d958c9a7",
   "metadata": {},
   "source": [
    "Как мы можем заметить по гистограммам и информации о данных, существуют различия в показателях пользователей с подпиской и без. Так визуально пользователи с подпиской проезжают расстояние больше в поездках, чем пользователи без подписки. А времени трятят приблизительно одинаково (формы распределенний похожи)"
   ]
  },
  {
   "cell_type": "markdown",
   "id": "402d620f",
   "metadata": {},
   "source": [
    "#### Шаг 5. Подсчёт выручки"
   ]
  },
  {
   "cell_type": "markdown",
   "id": "f22d1388",
   "metadata": {},
   "source": [
    "##### Создадим датафрейм с агрегированными данными о поездках на основе датафрейма с объединёнными данными из шага 4: найдем суммарное расстояние, количество поездок и суммарное время для каждого пользователя за каждый месяц. "
   ]
  },
  {
   "cell_type": "code",
   "execution_count": 23,
   "id": "53049e0a",
   "metadata": {},
   "outputs": [],
   "source": [
    "data_merge['duration'] = data_merge['duration'].astype('int')"
   ]
  },
  {
   "cell_type": "code",
   "execution_count": 24,
   "id": "27f08dea",
   "metadata": {},
   "outputs": [
    {
     "data": {
      "text/html": [
       "<div>\n",
       "<style scoped>\n",
       "    .dataframe tbody tr th:only-of-type {\n",
       "        vertical-align: middle;\n",
       "    }\n",
       "\n",
       "    .dataframe tbody tr th {\n",
       "        vertical-align: top;\n",
       "    }\n",
       "\n",
       "    .dataframe thead tr th {\n",
       "        text-align: left;\n",
       "    }\n",
       "\n",
       "    .dataframe thead tr:last-of-type th {\n",
       "        text-align: right;\n",
       "    }\n",
       "</style>\n",
       "<table border=\"1\" class=\"dataframe\">\n",
       "  <thead>\n",
       "    <tr>\n",
       "      <th></th>\n",
       "      <th></th>\n",
       "      <th></th>\n",
       "      <th colspan=\"2\" halign=\"left\">distance</th>\n",
       "      <th>duration</th>\n",
       "      <th>subscription_type</th>\n",
       "    </tr>\n",
       "    <tr>\n",
       "      <th></th>\n",
       "      <th></th>\n",
       "      <th></th>\n",
       "      <th>sum</th>\n",
       "      <th>count</th>\n",
       "      <th>sum</th>\n",
       "      <th>min</th>\n",
       "    </tr>\n",
       "    <tr>\n",
       "      <th>user_id</th>\n",
       "      <th>name</th>\n",
       "      <th>month</th>\n",
       "      <th></th>\n",
       "      <th></th>\n",
       "      <th></th>\n",
       "      <th></th>\n",
       "    </tr>\n",
       "  </thead>\n",
       "  <tbody>\n",
       "    <tr>\n",
       "      <th rowspan=\"6\" valign=\"top\">1</th>\n",
       "      <th rowspan=\"6\" valign=\"top\">Кира</th>\n",
       "      <th>1</th>\n",
       "      <td>7026</td>\n",
       "      <td>2</td>\n",
       "      <td>40</td>\n",
       "      <td>ultra</td>\n",
       "    </tr>\n",
       "    <tr>\n",
       "      <th>4</th>\n",
       "      <td>754</td>\n",
       "      <td>1</td>\n",
       "      <td>6</td>\n",
       "      <td>ultra</td>\n",
       "    </tr>\n",
       "    <tr>\n",
       "      <th>8</th>\n",
       "      <td>6722</td>\n",
       "      <td>2</td>\n",
       "      <td>44</td>\n",
       "      <td>ultra</td>\n",
       "    </tr>\n",
       "    <tr>\n",
       "      <th>10</th>\n",
       "      <td>5809</td>\n",
       "      <td>2</td>\n",
       "      <td>30</td>\n",
       "      <td>ultra</td>\n",
       "    </tr>\n",
       "    <tr>\n",
       "      <th>11</th>\n",
       "      <td>7002</td>\n",
       "      <td>3</td>\n",
       "      <td>53</td>\n",
       "      <td>ultra</td>\n",
       "    </tr>\n",
       "    <tr>\n",
       "      <th>12</th>\n",
       "      <td>6751</td>\n",
       "      <td>2</td>\n",
       "      <td>26</td>\n",
       "      <td>ultra</td>\n",
       "    </tr>\n",
       "    <tr>\n",
       "      <th rowspan=\"7\" valign=\"top\">2</th>\n",
       "      <th rowspan=\"7\" valign=\"top\">Станислав</th>\n",
       "      <th>3</th>\n",
       "      <td>10187</td>\n",
       "      <td>3</td>\n",
       "      <td>60</td>\n",
       "      <td>ultra</td>\n",
       "    </tr>\n",
       "    <tr>\n",
       "      <th>4</th>\n",
       "      <td>6163</td>\n",
       "      <td>2</td>\n",
       "      <td>38</td>\n",
       "      <td>ultra</td>\n",
       "    </tr>\n",
       "    <tr>\n",
       "      <th>6</th>\n",
       "      <td>3255</td>\n",
       "      <td>1</td>\n",
       "      <td>13</td>\n",
       "      <td>ultra</td>\n",
       "    </tr>\n",
       "    <tr>\n",
       "      <th>7</th>\n",
       "      <td>6779</td>\n",
       "      <td>2</td>\n",
       "      <td>46</td>\n",
       "      <td>ultra</td>\n",
       "    </tr>\n",
       "    <tr>\n",
       "      <th>8</th>\n",
       "      <td>923</td>\n",
       "      <td>1</td>\n",
       "      <td>6</td>\n",
       "      <td>ultra</td>\n",
       "    </tr>\n",
       "    <tr>\n",
       "      <th>10</th>\n",
       "      <td>2824</td>\n",
       "      <td>1</td>\n",
       "      <td>18</td>\n",
       "      <td>ultra</td>\n",
       "    </tr>\n",
       "    <tr>\n",
       "      <th>12</th>\n",
       "      <td>3828</td>\n",
       "      <td>1</td>\n",
       "      <td>11</td>\n",
       "      <td>ultra</td>\n",
       "    </tr>\n",
       "    <tr>\n",
       "      <th rowspan=\"7\" valign=\"top\">3</th>\n",
       "      <th rowspan=\"7\" valign=\"top\">Алексей</th>\n",
       "      <th>1</th>\n",
       "      <td>3061</td>\n",
       "      <td>1</td>\n",
       "      <td>12</td>\n",
       "      <td>ultra</td>\n",
       "    </tr>\n",
       "    <tr>\n",
       "      <th>2</th>\n",
       "      <td>5420</td>\n",
       "      <td>2</td>\n",
       "      <td>37</td>\n",
       "      <td>ultra</td>\n",
       "    </tr>\n",
       "    <tr>\n",
       "      <th>4</th>\n",
       "      <td>2956</td>\n",
       "      <td>1</td>\n",
       "      <td>20</td>\n",
       "      <td>ultra</td>\n",
       "    </tr>\n",
       "    <tr>\n",
       "      <th>5</th>\n",
       "      <td>9062</td>\n",
       "      <td>3</td>\n",
       "      <td>60</td>\n",
       "      <td>ultra</td>\n",
       "    </tr>\n",
       "    <tr>\n",
       "      <th>7</th>\n",
       "      <td>10918</td>\n",
       "      <td>3</td>\n",
       "      <td>64</td>\n",
       "      <td>ultra</td>\n",
       "    </tr>\n",
       "    <tr>\n",
       "      <th>9</th>\n",
       "      <td>2891</td>\n",
       "      <td>1</td>\n",
       "      <td>22</td>\n",
       "      <td>ultra</td>\n",
       "    </tr>\n",
       "    <tr>\n",
       "      <th>12</th>\n",
       "      <td>2593</td>\n",
       "      <td>1</td>\n",
       "      <td>12</td>\n",
       "      <td>ultra</td>\n",
       "    </tr>\n",
       "  </tbody>\n",
       "</table>\n",
       "</div>"
      ],
      "text/plain": [
       "                        distance       duration subscription_type\n",
       "                             sum count      sum               min\n",
       "user_id name      month                                          \n",
       "1       Кира      1         7026     2       40             ultra\n",
       "                  4          754     1        6             ultra\n",
       "                  8         6722     2       44             ultra\n",
       "                  10        5809     2       30             ultra\n",
       "                  11        7002     3       53             ultra\n",
       "                  12        6751     2       26             ultra\n",
       "2       Станислав 3        10187     3       60             ultra\n",
       "                  4         6163     2       38             ultra\n",
       "                  6         3255     1       13             ultra\n",
       "                  7         6779     2       46             ultra\n",
       "                  8          923     1        6             ultra\n",
       "                  10        2824     1       18             ultra\n",
       "                  12        3828     1       11             ultra\n",
       "3       Алексей   1         3061     1       12             ultra\n",
       "                  2         5420     2       37             ultra\n",
       "                  4         2956     1       20             ultra\n",
       "                  5         9062     3       60             ultra\n",
       "                  7        10918     3       64             ultra\n",
       "                  9         2891     1       22             ultra\n",
       "                  12        2593     1       12             ultra"
      ]
     },
     "execution_count": 24,
     "metadata": {},
     "output_type": "execute_result"
    }
   ],
   "source": [
    "aggfunction = {\n",
    "    'distance':['sum','count'],\n",
    "    'duration':['sum'],\n",
    "    'subscription_type':['min']\n",
    "}\n",
    "dataset = data_merge.groupby(['user_id','name','month']).agg(aggfunction)\n",
    "dataset.head(20)"
   ]
  },
  {
   "cell_type": "code",
   "execution_count": 25,
   "id": "7c1834ba",
   "metadata": {},
   "outputs": [
    {
     "data": {
      "text/plain": [
       "MultiIndex([(         'distance',   'sum'),\n",
       "            (         'distance', 'count'),\n",
       "            (         'duration',   'sum'),\n",
       "            ('subscription_type',   'min')],\n",
       "           )"
      ]
     },
     "execution_count": 25,
     "metadata": {},
     "output_type": "execute_result"
    }
   ],
   "source": [
    "dataset.columns"
   ]
  },
  {
   "cell_type": "markdown",
   "id": "a351651c",
   "metadata": {},
   "source": [
    "Переименуем столбцы для удобства работы с ними"
   ]
  },
  {
   "cell_type": "code",
   "execution_count": 26,
   "id": "04dfe7d3",
   "metadata": {
    "scrolled": false
   },
   "outputs": [
    {
     "data": {
      "text/html": [
       "<div>\n",
       "<style scoped>\n",
       "    .dataframe tbody tr th:only-of-type {\n",
       "        vertical-align: middle;\n",
       "    }\n",
       "\n",
       "    .dataframe tbody tr th {\n",
       "        vertical-align: top;\n",
       "    }\n",
       "\n",
       "    .dataframe thead th {\n",
       "        text-align: right;\n",
       "    }\n",
       "</style>\n",
       "<table border=\"1\" class=\"dataframe\">\n",
       "  <thead>\n",
       "    <tr style=\"text-align: right;\">\n",
       "      <th></th>\n",
       "      <th></th>\n",
       "      <th></th>\n",
       "      <th>sum_distance</th>\n",
       "      <th>rides_count</th>\n",
       "      <th>duration_sum</th>\n",
       "      <th>subscription_type</th>\n",
       "    </tr>\n",
       "    <tr>\n",
       "      <th>user_id</th>\n",
       "      <th>name</th>\n",
       "      <th>month</th>\n",
       "      <th></th>\n",
       "      <th></th>\n",
       "      <th></th>\n",
       "      <th></th>\n",
       "    </tr>\n",
       "  </thead>\n",
       "  <tbody>\n",
       "    <tr>\n",
       "      <th rowspan=\"5\" valign=\"top\">1</th>\n",
       "      <th rowspan=\"5\" valign=\"top\">Кира</th>\n",
       "      <th>1</th>\n",
       "      <td>7026</td>\n",
       "      <td>2</td>\n",
       "      <td>40</td>\n",
       "      <td>ultra</td>\n",
       "    </tr>\n",
       "    <tr>\n",
       "      <th>4</th>\n",
       "      <td>754</td>\n",
       "      <td>1</td>\n",
       "      <td>6</td>\n",
       "      <td>ultra</td>\n",
       "    </tr>\n",
       "    <tr>\n",
       "      <th>8</th>\n",
       "      <td>6722</td>\n",
       "      <td>2</td>\n",
       "      <td>44</td>\n",
       "      <td>ultra</td>\n",
       "    </tr>\n",
       "    <tr>\n",
       "      <th>10</th>\n",
       "      <td>5809</td>\n",
       "      <td>2</td>\n",
       "      <td>30</td>\n",
       "      <td>ultra</td>\n",
       "    </tr>\n",
       "    <tr>\n",
       "      <th>11</th>\n",
       "      <td>7002</td>\n",
       "      <td>3</td>\n",
       "      <td>53</td>\n",
       "      <td>ultra</td>\n",
       "    </tr>\n",
       "    <tr>\n",
       "      <th>...</th>\n",
       "      <th>...</th>\n",
       "      <th>...</th>\n",
       "      <td>...</td>\n",
       "      <td>...</td>\n",
       "      <td>...</td>\n",
       "      <td>...</td>\n",
       "    </tr>\n",
       "    <tr>\n",
       "      <th rowspan=\"5\" valign=\"top\">1534</th>\n",
       "      <th rowspan=\"5\" valign=\"top\">Альберт</th>\n",
       "      <th>6</th>\n",
       "      <td>3409</td>\n",
       "      <td>2</td>\n",
       "      <td>24</td>\n",
       "      <td>free</td>\n",
       "    </tr>\n",
       "    <tr>\n",
       "      <th>8</th>\n",
       "      <td>7621</td>\n",
       "      <td>2</td>\n",
       "      <td>46</td>\n",
       "      <td>free</td>\n",
       "    </tr>\n",
       "    <tr>\n",
       "      <th>9</th>\n",
       "      <td>4928</td>\n",
       "      <td>1</td>\n",
       "      <td>22</td>\n",
       "      <td>free</td>\n",
       "    </tr>\n",
       "    <tr>\n",
       "      <th>11</th>\n",
       "      <td>13349</td>\n",
       "      <td>4</td>\n",
       "      <td>74</td>\n",
       "      <td>free</td>\n",
       "    </tr>\n",
       "    <tr>\n",
       "      <th>12</th>\n",
       "      <td>2371</td>\n",
       "      <td>1</td>\n",
       "      <td>15</td>\n",
       "      <td>free</td>\n",
       "    </tr>\n",
       "  </tbody>\n",
       "</table>\n",
       "<p>11331 rows × 4 columns</p>\n",
       "</div>"
      ],
      "text/plain": [
       "                       sum_distance  rides_count  duration_sum  \\\n",
       "user_id name    month                                            \n",
       "1       Кира    1              7026            2            40   \n",
       "                4               754            1             6   \n",
       "                8              6722            2            44   \n",
       "                10             5809            2            30   \n",
       "                11             7002            3            53   \n",
       "...                             ...          ...           ...   \n",
       "1534    Альберт 6              3409            2            24   \n",
       "                8              7621            2            46   \n",
       "                9              4928            1            22   \n",
       "                11            13349            4            74   \n",
       "                12             2371            1            15   \n",
       "\n",
       "                      subscription_type  \n",
       "user_id name    month                    \n",
       "1       Кира    1                 ultra  \n",
       "                4                 ultra  \n",
       "                8                 ultra  \n",
       "                10                ultra  \n",
       "                11                ultra  \n",
       "...                                 ...  \n",
       "1534    Альберт 6                  free  \n",
       "                8                  free  \n",
       "                9                  free  \n",
       "                11                 free  \n",
       "                12                 free  \n",
       "\n",
       "[11331 rows x 4 columns]"
      ]
     },
     "execution_count": 26,
     "metadata": {},
     "output_type": "execute_result"
    }
   ],
   "source": [
    "dataset.columns = ['sum_distance', 'rides_count','duration_sum', 'subscription_type']\n",
    "dataset"
   ]
  },
  {
   "cell_type": "markdown",
   "id": "b440952e",
   "metadata": {},
   "source": [
    "##### В этот же датафрейм добавим столбец с помесячной выручкой, которую принёс каждый пользователь. "
   ]
  },
  {
   "cell_type": "markdown",
   "id": "ed3d829d",
   "metadata": {},
   "source": [
    "Округлим к \"потолку\" данные о продолжительности поездки и превратим в целочисленный тип"
   ]
  },
  {
   "cell_type": "code",
   "execution_count": 27,
   "id": "2f5a0d52",
   "metadata": {},
   "outputs": [
    {
     "data": {
      "text/plain": [
       "user_id  name     month\n",
       "1        Кира     1        40\n",
       "                  4         6\n",
       "                  8        44\n",
       "                  10       30\n",
       "                  11       53\n",
       "                           ..\n",
       "1534     Альберт  6        24\n",
       "                  8        46\n",
       "                  9        22\n",
       "                  11       74\n",
       "                  12       15\n",
       "Name: duration_sum, Length: 11331, dtype: int64"
      ]
     },
     "execution_count": 27,
     "metadata": {},
     "output_type": "execute_result"
    }
   ],
   "source": [
    "import numpy as np\n",
    "\n",
    "dataset['duration_sum'] = np.ceil(dataset['duration_sum'])\n",
    "dataset['duration_sum'] = dataset['duration_sum'].astype('int')\n",
    "dataset['duration_sum']"
   ]
  },
  {
   "cell_type": "code",
   "execution_count": 28,
   "id": "f7776ffe",
   "metadata": {},
   "outputs": [
    {
     "data": {
      "text/html": [
       "<div>\n",
       "<style scoped>\n",
       "    .dataframe tbody tr th:only-of-type {\n",
       "        vertical-align: middle;\n",
       "    }\n",
       "\n",
       "    .dataframe tbody tr th {\n",
       "        vertical-align: top;\n",
       "    }\n",
       "\n",
       "    .dataframe thead th {\n",
       "        text-align: right;\n",
       "    }\n",
       "</style>\n",
       "<table border=\"1\" class=\"dataframe\">\n",
       "  <thead>\n",
       "    <tr style=\"text-align: right;\">\n",
       "      <th></th>\n",
       "      <th>sum_distance</th>\n",
       "      <th>rides_count</th>\n",
       "      <th>duration_sum</th>\n",
       "      <th>subscription_type</th>\n",
       "      <th>minute_price</th>\n",
       "      <th>start_ride_price</th>\n",
       "      <th>subscription_fee</th>\n",
       "    </tr>\n",
       "  </thead>\n",
       "  <tbody>\n",
       "    <tr>\n",
       "      <th>0</th>\n",
       "      <td>7026</td>\n",
       "      <td>2</td>\n",
       "      <td>40</td>\n",
       "      <td>ultra</td>\n",
       "      <td>6</td>\n",
       "      <td>0</td>\n",
       "      <td>199</td>\n",
       "    </tr>\n",
       "    <tr>\n",
       "      <th>1</th>\n",
       "      <td>754</td>\n",
       "      <td>1</td>\n",
       "      <td>6</td>\n",
       "      <td>ultra</td>\n",
       "      <td>6</td>\n",
       "      <td>0</td>\n",
       "      <td>199</td>\n",
       "    </tr>\n",
       "    <tr>\n",
       "      <th>2</th>\n",
       "      <td>6722</td>\n",
       "      <td>2</td>\n",
       "      <td>44</td>\n",
       "      <td>ultra</td>\n",
       "      <td>6</td>\n",
       "      <td>0</td>\n",
       "      <td>199</td>\n",
       "    </tr>\n",
       "    <tr>\n",
       "      <th>3</th>\n",
       "      <td>5809</td>\n",
       "      <td>2</td>\n",
       "      <td>30</td>\n",
       "      <td>ultra</td>\n",
       "      <td>6</td>\n",
       "      <td>0</td>\n",
       "      <td>199</td>\n",
       "    </tr>\n",
       "    <tr>\n",
       "      <th>4</th>\n",
       "      <td>7002</td>\n",
       "      <td>3</td>\n",
       "      <td>53</td>\n",
       "      <td>ultra</td>\n",
       "      <td>6</td>\n",
       "      <td>0</td>\n",
       "      <td>199</td>\n",
       "    </tr>\n",
       "    <tr>\n",
       "      <th>...</th>\n",
       "      <td>...</td>\n",
       "      <td>...</td>\n",
       "      <td>...</td>\n",
       "      <td>...</td>\n",
       "      <td>...</td>\n",
       "      <td>...</td>\n",
       "      <td>...</td>\n",
       "    </tr>\n",
       "    <tr>\n",
       "      <th>11326</th>\n",
       "      <td>3409</td>\n",
       "      <td>2</td>\n",
       "      <td>24</td>\n",
       "      <td>free</td>\n",
       "      <td>8</td>\n",
       "      <td>50</td>\n",
       "      <td>0</td>\n",
       "    </tr>\n",
       "    <tr>\n",
       "      <th>11327</th>\n",
       "      <td>7621</td>\n",
       "      <td>2</td>\n",
       "      <td>46</td>\n",
       "      <td>free</td>\n",
       "      <td>8</td>\n",
       "      <td>50</td>\n",
       "      <td>0</td>\n",
       "    </tr>\n",
       "    <tr>\n",
       "      <th>11328</th>\n",
       "      <td>4928</td>\n",
       "      <td>1</td>\n",
       "      <td>22</td>\n",
       "      <td>free</td>\n",
       "      <td>8</td>\n",
       "      <td>50</td>\n",
       "      <td>0</td>\n",
       "    </tr>\n",
       "    <tr>\n",
       "      <th>11329</th>\n",
       "      <td>13349</td>\n",
       "      <td>4</td>\n",
       "      <td>74</td>\n",
       "      <td>free</td>\n",
       "      <td>8</td>\n",
       "      <td>50</td>\n",
       "      <td>0</td>\n",
       "    </tr>\n",
       "    <tr>\n",
       "      <th>11330</th>\n",
       "      <td>2371</td>\n",
       "      <td>1</td>\n",
       "      <td>15</td>\n",
       "      <td>free</td>\n",
       "      <td>8</td>\n",
       "      <td>50</td>\n",
       "      <td>0</td>\n",
       "    </tr>\n",
       "  </tbody>\n",
       "</table>\n",
       "<p>11331 rows × 7 columns</p>\n",
       "</div>"
      ],
      "text/plain": [
       "       sum_distance  rides_count  duration_sum subscription_type  \\\n",
       "0              7026            2            40             ultra   \n",
       "1               754            1             6             ultra   \n",
       "2              6722            2            44             ultra   \n",
       "3              5809            2            30             ultra   \n",
       "4              7002            3            53             ultra   \n",
       "...             ...          ...           ...               ...   \n",
       "11326          3409            2            24              free   \n",
       "11327          7621            2            46              free   \n",
       "11328          4928            1            22              free   \n",
       "11329         13349            4            74              free   \n",
       "11330          2371            1            15              free   \n",
       "\n",
       "       minute_price  start_ride_price  subscription_fee  \n",
       "0                 6                 0               199  \n",
       "1                 6                 0               199  \n",
       "2                 6                 0               199  \n",
       "3                 6                 0               199  \n",
       "4                 6                 0               199  \n",
       "...             ...               ...               ...  \n",
       "11326             8                50                 0  \n",
       "11327             8                50                 0  \n",
       "11328             8                50                 0  \n",
       "11329             8                50                 0  \n",
       "11330             8                50                 0  \n",
       "\n",
       "[11331 rows x 7 columns]"
      ]
     },
     "execution_count": 28,
     "metadata": {},
     "output_type": "execute_result"
    }
   ],
   "source": [
    "dataset = dataset.merge(data_subscriptions, on='subscription_type', how='left')\n",
    "dataset"
   ]
  },
  {
   "cell_type": "markdown",
   "id": "58ca4d4e",
   "metadata": {},
   "source": [
    "Тут мы объединили полученную агрегированную таблицу с условиями подписки. Теперь можем рассчитать выручку"
   ]
  },
  {
   "cell_type": "code",
   "execution_count": 29,
   "id": "e3ffa110",
   "metadata": {},
   "outputs": [
    {
     "data": {
      "text/html": [
       "<div>\n",
       "<style scoped>\n",
       "    .dataframe tbody tr th:only-of-type {\n",
       "        vertical-align: middle;\n",
       "    }\n",
       "\n",
       "    .dataframe tbody tr th {\n",
       "        vertical-align: top;\n",
       "    }\n",
       "\n",
       "    .dataframe thead th {\n",
       "        text-align: right;\n",
       "    }\n",
       "</style>\n",
       "<table border=\"1\" class=\"dataframe\">\n",
       "  <thead>\n",
       "    <tr style=\"text-align: right;\">\n",
       "      <th></th>\n",
       "      <th>sum_distance</th>\n",
       "      <th>rides_count</th>\n",
       "      <th>duration_sum</th>\n",
       "      <th>subscription_type</th>\n",
       "      <th>minute_price</th>\n",
       "      <th>start_ride_price</th>\n",
       "      <th>subscription_fee</th>\n",
       "      <th>revenue</th>\n",
       "    </tr>\n",
       "  </thead>\n",
       "  <tbody>\n",
       "    <tr>\n",
       "      <th>0</th>\n",
       "      <td>7026</td>\n",
       "      <td>2</td>\n",
       "      <td>40</td>\n",
       "      <td>ultra</td>\n",
       "      <td>6</td>\n",
       "      <td>0</td>\n",
       "      <td>199</td>\n",
       "      <td>439</td>\n",
       "    </tr>\n",
       "    <tr>\n",
       "      <th>1</th>\n",
       "      <td>754</td>\n",
       "      <td>1</td>\n",
       "      <td>6</td>\n",
       "      <td>ultra</td>\n",
       "      <td>6</td>\n",
       "      <td>0</td>\n",
       "      <td>199</td>\n",
       "      <td>235</td>\n",
       "    </tr>\n",
       "    <tr>\n",
       "      <th>2</th>\n",
       "      <td>6722</td>\n",
       "      <td>2</td>\n",
       "      <td>44</td>\n",
       "      <td>ultra</td>\n",
       "      <td>6</td>\n",
       "      <td>0</td>\n",
       "      <td>199</td>\n",
       "      <td>463</td>\n",
       "    </tr>\n",
       "    <tr>\n",
       "      <th>3</th>\n",
       "      <td>5809</td>\n",
       "      <td>2</td>\n",
       "      <td>30</td>\n",
       "      <td>ultra</td>\n",
       "      <td>6</td>\n",
       "      <td>0</td>\n",
       "      <td>199</td>\n",
       "      <td>379</td>\n",
       "    </tr>\n",
       "    <tr>\n",
       "      <th>4</th>\n",
       "      <td>7002</td>\n",
       "      <td>3</td>\n",
       "      <td>53</td>\n",
       "      <td>ultra</td>\n",
       "      <td>6</td>\n",
       "      <td>0</td>\n",
       "      <td>199</td>\n",
       "      <td>517</td>\n",
       "    </tr>\n",
       "    <tr>\n",
       "      <th>...</th>\n",
       "      <td>...</td>\n",
       "      <td>...</td>\n",
       "      <td>...</td>\n",
       "      <td>...</td>\n",
       "      <td>...</td>\n",
       "      <td>...</td>\n",
       "      <td>...</td>\n",
       "      <td>...</td>\n",
       "    </tr>\n",
       "    <tr>\n",
       "      <th>11326</th>\n",
       "      <td>3409</td>\n",
       "      <td>2</td>\n",
       "      <td>24</td>\n",
       "      <td>free</td>\n",
       "      <td>8</td>\n",
       "      <td>50</td>\n",
       "      <td>0</td>\n",
       "      <td>292</td>\n",
       "    </tr>\n",
       "    <tr>\n",
       "      <th>11327</th>\n",
       "      <td>7621</td>\n",
       "      <td>2</td>\n",
       "      <td>46</td>\n",
       "      <td>free</td>\n",
       "      <td>8</td>\n",
       "      <td>50</td>\n",
       "      <td>0</td>\n",
       "      <td>468</td>\n",
       "    </tr>\n",
       "    <tr>\n",
       "      <th>11328</th>\n",
       "      <td>4928</td>\n",
       "      <td>1</td>\n",
       "      <td>22</td>\n",
       "      <td>free</td>\n",
       "      <td>8</td>\n",
       "      <td>50</td>\n",
       "      <td>0</td>\n",
       "      <td>226</td>\n",
       "    </tr>\n",
       "    <tr>\n",
       "      <th>11329</th>\n",
       "      <td>13349</td>\n",
       "      <td>4</td>\n",
       "      <td>74</td>\n",
       "      <td>free</td>\n",
       "      <td>8</td>\n",
       "      <td>50</td>\n",
       "      <td>0</td>\n",
       "      <td>792</td>\n",
       "    </tr>\n",
       "    <tr>\n",
       "      <th>11330</th>\n",
       "      <td>2371</td>\n",
       "      <td>1</td>\n",
       "      <td>15</td>\n",
       "      <td>free</td>\n",
       "      <td>8</td>\n",
       "      <td>50</td>\n",
       "      <td>0</td>\n",
       "      <td>170</td>\n",
       "    </tr>\n",
       "  </tbody>\n",
       "</table>\n",
       "<p>11331 rows × 8 columns</p>\n",
       "</div>"
      ],
      "text/plain": [
       "       sum_distance  rides_count  duration_sum subscription_type  \\\n",
       "0              7026            2            40             ultra   \n",
       "1               754            1             6             ultra   \n",
       "2              6722            2            44             ultra   \n",
       "3              5809            2            30             ultra   \n",
       "4              7002            3            53             ultra   \n",
       "...             ...          ...           ...               ...   \n",
       "11326          3409            2            24              free   \n",
       "11327          7621            2            46              free   \n",
       "11328          4928            1            22              free   \n",
       "11329         13349            4            74              free   \n",
       "11330          2371            1            15              free   \n",
       "\n",
       "       minute_price  start_ride_price  subscription_fee  revenue  \n",
       "0                 6                 0               199      439  \n",
       "1                 6                 0               199      235  \n",
       "2                 6                 0               199      463  \n",
       "3                 6                 0               199      379  \n",
       "4                 6                 0               199      517  \n",
       "...             ...               ...               ...      ...  \n",
       "11326             8                50                 0      292  \n",
       "11327             8                50                 0      468  \n",
       "11328             8                50                 0      226  \n",
       "11329             8                50                 0      792  \n",
       "11330             8                50                 0      170  \n",
       "\n",
       "[11331 rows x 8 columns]"
      ]
     },
     "execution_count": 29,
     "metadata": {},
     "output_type": "execute_result"
    }
   ],
   "source": [
    "dataset['revenue'] = dataset['start_ride_price']*dataset['rides_count'] + dataset['minute_price']*dataset['duration_sum'] + dataset['subscription_fee']\n",
    "dataset"
   ]
  },
  {
   "cell_type": "markdown",
   "id": "5a669870",
   "metadata": {},
   "source": [
    "Мы получили помесячную выручку каждого пользователя. Ради интереса посмотрим на суммарную выручку\n"
   ]
  },
  {
   "cell_type": "code",
   "execution_count": 30,
   "id": "d39d8c24",
   "metadata": {},
   "outputs": [
    {
     "data": {
      "text/plain": [
       "3747097"
      ]
     },
     "execution_count": 30,
     "metadata": {},
     "output_type": "execute_result"
    }
   ],
   "source": [
    "dataset['revenue'].sum()"
   ]
  },
  {
   "cell_type": "markdown",
   "id": "41545ac0",
   "metadata": {},
   "source": [
    "#### Шаг 6. Проверка гипотез"
   ]
  },
  {
   "cell_type": "markdown",
   "id": "0aee230c",
   "metadata": {},
   "source": [
    "##### Важно понять, тратят ли пользователи с подпиской больше времени на поездки? Если да, то пользователи с подпиской могут быть «выгоднее» для компании. Проверим гипотезу. "
   ]
  },
  {
   "cell_type": "markdown",
   "id": "786242bc",
   "metadata": {},
   "source": [
    "Смормулируем нулевую гипотезу: пользователи с подпиской тратят примерно столько же времени на поездки, что и пользователи без подписки.\n",
    "Альтернативная гипотеза будет звучать так: пользователи с подпиской тратят больше времени на поездки, чем пользователи без подписки. Это правосторонняя гипотеза. \n",
    "Обозначим уровень статистической значимости в 5%\n",
    "Для начала рассчитаем среднее количество затраченного времени на поездки пользователей без подписки, чтобы с этим значением сравнить нашу гипотезу"
   ]
  },
  {
   "cell_type": "code",
   "execution_count": 31,
   "id": "17c51666",
   "metadata": {},
   "outputs": [
    {
     "name": "stdout",
     "output_type": "stream",
     "text": [
      "p-значение: 1.2804098316645618e-34\n",
      "Отвергаем нулевую гипотезу\n"
     ]
    }
   ],
   "source": [
    "from scipy import stats as st\n",
    "\n",
    "#ожидаемое среднее значение затраченного времени на поездки пользователей без подписки\n",
    "free_value = data_merge_free['duration']\n",
    "\n",
    "ultra = data_merge_ultra['duration'] #серия проверяемых в гипотезе чисел: время поездки с подпиской\n",
    "\n",
    "alpha = 0.05 #уровень критической значимости\n",
    "\n",
    "result_1 = st.ttest_ind(\n",
    "    ultra,\n",
    "    free_value,\n",
    "    alternative='greater'\n",
    "                                  )\n",
    "print('p-значение:', result_1.pvalue)\n",
    "\n",
    "if (result_1.pvalue < alpha): #сравним полученный p-value и уровень значимости)\n",
    "    print('Отвергаем нулевую гипотезу')\n",
    "else:\n",
    "    print('Не получилось отвергнуть нулевую гипотезу') \n",
    "    "
   ]
  },
  {
   "cell_type": "markdown",
   "id": "a58257f2",
   "metadata": {},
   "source": [
    "Значит, мы приходим к выводу, что пользователи с подпиской тратят больше времени на поездки, чем в среднем пользователи без подписки. Это определенно стоит учитывать продакт-менеджерам"
   ]
  },
  {
   "cell_type": "markdown",
   "id": "481eb52b",
   "metadata": {},
   "source": [
    "##### Расстояние одной поездки в 3130 метров — оптимальное с точки зрения износа самоката. Можно ли сказать, что среднее  расстояние, которое проезжают пользователи с подпиской за одну поездку, не превышает 3130 метров?"
   ]
  },
  {
   "cell_type": "markdown",
   "id": "d38e3e5f",
   "metadata": {},
   "source": [
    "Сформулируем нулевую гипотезу: среднее расстояние поездки пользователей с подпиской не превышает 3130 метров.\n",
    "Альтернативная гипотеза: среднее расстояние поездки пользователей с подпиской превышает 3130 метров. Это правосторонняя гиптоза.\n",
    "Обозначим уровень критической значимости 5%\n"
   ]
  },
  {
   "cell_type": "code",
   "execution_count": 32,
   "id": "c70e8504",
   "metadata": {},
   "outputs": [
    {
     "name": "stdout",
     "output_type": "stream",
     "text": [
      "p-значение: 0.9264356652998772\n",
      "Не получилось отвергнуть нулевую гипотезу\n"
     ]
    }
   ],
   "source": [
    "distance = 3130 #расстояние поездки оптимальное для износа\n",
    "\n",
    "aplha = 0.05 #уровень критической значимости\n",
    "\n",
    "distance_ultra = data_merge_ultra['distance']\n",
    "\n",
    "result_2 = st.ttest_1samp(\n",
    "    distance_ultra,\n",
    "    distance,\n",
    "    alternative='greater'\n",
    "                                  )\n",
    "print('p-значение:', result_2.pvalue)\n",
    "\n",
    "if (result_2.pvalue < alpha): #сравним полученный p-value и уровень значимости)\n",
    "    print('Отвергаем нулевую гипотезу')\n",
    "else:\n",
    "    print('Не получилось отвергнуть нулевую гипотезу') \n",
    "    \n"
   ]
  },
  {
   "cell_type": "markdown",
   "id": "d655408c",
   "metadata": {},
   "source": [
    "Значит, мы приходим к выводу, что пользователи с подпиской проезжают в среднем не больше 3130 метров, а следовательно, самокаты у таких пользователей будут менее подвержены износам"
   ]
  },
  {
   "cell_type": "markdown",
   "id": "f4564229",
   "metadata": {},
   "source": [
    "##### Проверим гипотезу о том, будет ли помесячная выручка от пользователей с подпиской по месяцам выше, чем выручка от пользователей без подписки.  "
   ]
  },
  {
   "cell_type": "markdown",
   "id": "feddf814",
   "metadata": {},
   "source": [
    "Сформулируем нулевую гипотезу: помесячная выручка пользователей с подпиской не превышает помесячную выручку пользователей без подписки. Альтернативная гипотеза: помесячная выручка пользователей с подпиской больше помесячной выручки пользователей без подписки. Обозначим уровень критической значимости 5%"
   ]
  },
  {
   "cell_type": "code",
   "execution_count": 33,
   "id": "04bf4af7",
   "metadata": {},
   "outputs": [
    {
     "name": "stdout",
     "output_type": "stream",
     "text": [
      "p-значение: 1.1914705742669238e-43\n",
      "Отвергаем нулевую гипотезу\n"
     ]
    }
   ],
   "source": [
    "revenue_ultra = dataset[dataset['subscription_type'] == 'ultra']['revenue'] #выручка с подпиской\n",
    "revenue_free = dataset[dataset['subscription_type'] == 'free']['revenue'] #выручка без подписки\n",
    "\n",
    "aplha = 0.05 #уровень критической значимости\n",
    "\n",
    "result_3 = st.ttest_ind(revenue_ultra, revenue_free, alternative = 'greater')\n",
    "\n",
    "print('p-значение:', result_3.pvalue)\n",
    "\n",
    "if result_3.pvalue < alpha:\n",
    "    print('Отвергаем нулевую гипотезу')\n",
    "else:\n",
    "    print('Не получилось отвергнуть нулевую гипотезу')\n",
    "\n"
   ]
  },
  {
   "cell_type": "markdown",
   "id": "fcb8da25",
   "metadata": {},
   "source": [
    "Это значит, что пользователи с подпиской приносят больше выручки, нежели пользователи без подписки"
   ]
  },
  {
   "cell_type": "markdown",
   "id": "71772c0d",
   "metadata": {},
   "source": [
    "##### Представьте такую ситуацию: техническая команда сервиса обновила сервера, с которыми взаимодействует мобильное приложение. Она надеется, что из-за этого количество обращений в техподдержку значимо снизилось. Некоторый файл содержит для каждого пользователя данные о количестве обращений до обновления и после него. Какой тест вам понадобился бы для проверки этой гипотезы? "
   ]
  },
  {
   "cell_type": "markdown",
   "id": "da11dc16",
   "metadata": {},
   "source": [
    "Поскольку обращения пользователей в техподдержку до и после обновления - величины зависимые, то следует проверить гипотезу о равенстве средних для зависимых (парных) выборок с помощью метода scipy.stats.ttest_rel(). То есть провести двухвыборочный t-тест для зависимых выборок"
   ]
  },
  {
   "cell_type": "markdown",
   "id": "61213c5e",
   "metadata": {},
   "source": [
    "#### Шаг 7. Распределения"
   ]
  },
  {
   "cell_type": "markdown",
   "id": "9dcf6a5f",
   "metadata": {},
   "source": [
    "Ввиду того, что дедлайн уже на носу, к 7 заданию постараюсь вернуться позже)\n",
    "Не вижу в задании пункта с общим выводом, следовательно, общий вывод в данном проекте не обязателен"
   ]
  },
  {
   "cell_type": "markdown",
   "id": "5fa90989",
   "metadata": {},
   "source": [
    "# Общий вывод"
   ]
  },
  {
   "cell_type": "markdown",
   "id": "4c9d31f3",
   "metadata": {},
   "source": [
    "Проведя анализ данных и проверив некоторые гипотезы, вот к какими выводам мы пришли и вот, что нужно знать продакт-менеджерам:\n",
    "\n",
    "1. При исследовательском анализе данных мы выяснили:\n",
    "    - Больше всего поездок в Пятигорске, а Москва отстает. В остальных городах количество поездок распределены равномерно\n",
    "    - Доля клиентов с подпиской **45%** и **54%** без подписки\n",
    "    - Самые частые пользователи самокатов: молодые люди **20-30** лет. Возрастые группы старше и младше встречаются реже\n",
    "    - В среднем клиенты проезжают около **3-х километров**\n",
    "    - В среднем поездка на самокате занимает около **17 минут**\n",
    "    \n",
    "2. При визуализации данных мы выяснили следующее:\n",
    "    По гистограммам и информации о данных, существуют различия в показателях пользователей с подпиской и без. Так визуально **пользователи с подпиской проезжают расстояние больше в поездках, чем пользователи без подписки**. А времени трятят приблизительно одинаково (формы распределенний схожи)\n",
    "    \n",
    "3. Рассчитав помесяную выручку мы сформулировали несколько гипотез и вот, что мы смогли подтвердить:\n",
    "    - Пользователи с подпиской тратят больше времени на поездки, чем в среднем пользователи без подписки. Это определенно стоит учитывать продакт-менеджерам\n",
    "    - Пользователи с подпиской проезжают в среднем не больше **3130 метров**, а следовательно, самокаты у таких пользователей будут менее подвержены износам\n",
    "    - Пользователи с подпиской приносят больше выручки, нежели пользователи без подписки\n",
    "    \n",
    "Пользователи с подпиской опредленно **выгодны** сервису самокатов, а следовательно, кампании по привлечению клиентов с подпиской должны увеличить прибыль сервиса. Продакт-менеджерам теперь можно уверенно дейстовать."
   ]
  }
 ],
 "metadata": {
  "ExecuteTimeLog": [
   {
    "duration": 70,
    "start_time": "2024-02-10T14:06:53.678Z"
   },
   {
    "duration": 372,
    "start_time": "2024-02-10T14:06:57.656Z"
   },
   {
    "duration": 87,
    "start_time": "2024-02-10T14:06:58.818Z"
   },
   {
    "duration": 164,
    "start_time": "2024-02-10T14:13:54.429Z"
   },
   {
    "duration": 90,
    "start_time": "2024-02-10T14:14:20.058Z"
   },
   {
    "duration": 91,
    "start_time": "2024-02-10T14:18:23.102Z"
   },
   {
    "duration": 1123,
    "start_time": "2024-02-10T14:22:33.799Z"
   },
   {
    "duration": 7,
    "start_time": "2024-02-10T14:23:00.843Z"
   },
   {
    "duration": 45,
    "start_time": "2024-02-10T14:23:28.339Z"
   },
   {
    "duration": 11,
    "start_time": "2024-02-10T14:24:00.732Z"
   },
   {
    "duration": 16,
    "start_time": "2024-02-10T14:25:06.023Z"
   },
   {
    "duration": 8,
    "start_time": "2024-02-10T14:27:41.260Z"
   },
   {
    "duration": 8,
    "start_time": "2024-02-10T14:27:59.868Z"
   },
   {
    "duration": 7,
    "start_time": "2024-02-10T14:28:20.418Z"
   },
   {
    "duration": 7,
    "start_time": "2024-02-10T14:30:33.219Z"
   },
   {
    "duration": 7,
    "start_time": "2024-02-10T14:30:52.911Z"
   },
   {
    "duration": 19,
    "start_time": "2024-02-10T14:31:24.314Z"
   },
   {
    "duration": 8,
    "start_time": "2024-02-10T14:31:36.945Z"
   },
   {
    "duration": 7,
    "start_time": "2024-02-10T14:31:49.067Z"
   },
   {
    "duration": 9,
    "start_time": "2024-02-10T14:31:50.011Z"
   },
   {
    "duration": 8,
    "start_time": "2024-02-10T14:32:10.339Z"
   },
   {
    "duration": 8,
    "start_time": "2024-02-10T14:35:34.185Z"
   },
   {
    "duration": 5,
    "start_time": "2024-02-10T14:35:58.290Z"
   },
   {
    "duration": 490,
    "start_time": "2024-02-10T14:43:50.709Z"
   },
   {
    "duration": 6,
    "start_time": "2024-02-10T14:44:01.478Z"
   },
   {
    "duration": 114,
    "start_time": "2024-02-10T14:46:19.042Z"
   },
   {
    "duration": 199,
    "start_time": "2024-02-10T14:46:31.731Z"
   },
   {
    "duration": 219,
    "start_time": "2024-02-10T14:46:39.435Z"
   },
   {
    "duration": 1278,
    "start_time": "2024-02-10T14:53:34.575Z"
   },
   {
    "duration": 219,
    "start_time": "2024-02-10T14:53:42.513Z"
   },
   {
    "duration": 170,
    "start_time": "2024-02-10T14:53:46.513Z"
   },
   {
    "duration": 23,
    "start_time": "2024-02-10T14:59:27.721Z"
   },
   {
    "duration": 13,
    "start_time": "2024-02-10T14:59:46.352Z"
   },
   {
    "duration": 16,
    "start_time": "2024-02-10T14:59:50.751Z"
   },
   {
    "duration": 193,
    "start_time": "2024-02-10T15:01:03.404Z"
   },
   {
    "duration": 75,
    "start_time": "2024-02-10T15:02:33.589Z"
   },
   {
    "duration": 251,
    "start_time": "2024-02-10T15:03:10.451Z"
   },
   {
    "duration": 196,
    "start_time": "2024-02-10T15:03:27.865Z"
   },
   {
    "duration": 10,
    "start_time": "2024-02-10T15:07:42.815Z"
   },
   {
    "duration": 5,
    "start_time": "2024-02-10T15:10:48.130Z"
   },
   {
    "duration": 11,
    "start_time": "2024-02-10T15:11:08.706Z"
   },
   {
    "duration": 11,
    "start_time": "2024-02-10T15:11:25.505Z"
   },
   {
    "duration": 4,
    "start_time": "2024-02-10T15:12:12.756Z"
   },
   {
    "duration": 23,
    "start_time": "2024-02-10T15:12:19.275Z"
   },
   {
    "duration": 8,
    "start_time": "2024-02-10T15:12:51.250Z"
   },
   {
    "duration": 8,
    "start_time": "2024-02-10T15:13:36.820Z"
   },
   {
    "duration": 7,
    "start_time": "2024-02-10T15:13:43.230Z"
   },
   {
    "duration": 5,
    "start_time": "2024-02-10T15:15:07.325Z"
   },
   {
    "duration": 7,
    "start_time": "2024-02-10T15:24:58.811Z"
   },
   {
    "duration": 7,
    "start_time": "2024-02-10T15:28:25.719Z"
   },
   {
    "duration": 137,
    "start_time": "2024-02-10T15:28:38.676Z"
   },
   {
    "duration": 5,
    "start_time": "2024-02-10T15:29:51.684Z"
   },
   {
    "duration": 5,
    "start_time": "2024-02-10T15:30:34.954Z"
   },
   {
    "duration": 4,
    "start_time": "2024-02-10T15:31:43.648Z"
   },
   {
    "duration": 5,
    "start_time": "2024-02-10T15:32:38.594Z"
   },
   {
    "duration": 123,
    "start_time": "2024-02-10T15:33:10.057Z"
   },
   {
    "duration": 6,
    "start_time": "2024-02-10T15:33:28.004Z"
   },
   {
    "duration": 9,
    "start_time": "2024-02-10T16:49:28.178Z"
   },
   {
    "duration": 469,
    "start_time": "2024-02-12T16:35:04.543Z"
   },
   {
    "duration": 231,
    "start_time": "2024-02-12T16:35:05.014Z"
   },
   {
    "duration": 19,
    "start_time": "2024-02-12T16:35:05.247Z"
   },
   {
    "duration": 7,
    "start_time": "2024-02-12T16:35:05.268Z"
   },
   {
    "duration": 9,
    "start_time": "2024-02-12T16:35:05.278Z"
   },
   {
    "duration": 9,
    "start_time": "2024-02-12T16:35:05.289Z"
   },
   {
    "duration": 6,
    "start_time": "2024-02-12T16:35:05.299Z"
   },
   {
    "duration": 13,
    "start_time": "2024-02-12T16:35:05.306Z"
   },
   {
    "duration": 709,
    "start_time": "2024-02-12T16:35:05.321Z"
   },
   {
    "duration": 12,
    "start_time": "2024-02-12T16:35:06.032Z"
   },
   {
    "duration": 18,
    "start_time": "2024-02-12T16:35:06.045Z"
   },
   {
    "duration": 36,
    "start_time": "2024-02-12T16:35:06.065Z"
   },
   {
    "duration": 89,
    "start_time": "2024-02-12T17:07:57.768Z"
   },
   {
    "duration": 20,
    "start_time": "2024-02-12T17:08:14.162Z"
   },
   {
    "duration": 17,
    "start_time": "2024-02-12T17:08:23.023Z"
   },
   {
    "duration": 30,
    "start_time": "2024-02-12T17:08:28.638Z"
   },
   {
    "duration": 11,
    "start_time": "2024-02-12T17:09:30.274Z"
   },
   {
    "duration": 22,
    "start_time": "2024-02-12T17:09:35.955Z"
   },
   {
    "duration": 9,
    "start_time": "2024-02-12T17:12:51.133Z"
   },
   {
    "duration": 11,
    "start_time": "2024-02-12T17:12:56.885Z"
   },
   {
    "duration": 21,
    "start_time": "2024-02-12T17:14:07.421Z"
   },
   {
    "duration": 51,
    "start_time": "2024-02-12T17:14:40.350Z"
   },
   {
    "duration": 14,
    "start_time": "2024-02-12T17:14:48.734Z"
   },
   {
    "duration": 20,
    "start_time": "2024-02-12T17:15:34.898Z"
   },
   {
    "duration": 178,
    "start_time": "2024-02-12T17:15:45.199Z"
   },
   {
    "duration": 21,
    "start_time": "2024-02-12T17:15:58.416Z"
   },
   {
    "duration": 18,
    "start_time": "2024-02-12T17:16:36.589Z"
   },
   {
    "duration": 20,
    "start_time": "2024-02-12T17:17:05.412Z"
   },
   {
    "duration": 26,
    "start_time": "2024-02-12T17:17:45.733Z"
   },
   {
    "duration": 22,
    "start_time": "2024-02-12T17:18:34.271Z"
   },
   {
    "duration": 21,
    "start_time": "2024-02-12T17:18:48.899Z"
   },
   {
    "duration": 1365,
    "start_time": "2024-02-12T17:19:09.887Z"
   },
   {
    "duration": 20,
    "start_time": "2024-02-12T17:19:25.375Z"
   },
   {
    "duration": 79,
    "start_time": "2024-02-12T17:23:28.591Z"
   },
   {
    "duration": 256,
    "start_time": "2024-02-12T17:23:48.840Z"
   },
   {
    "duration": 189,
    "start_time": "2024-02-12T17:24:25.937Z"
   },
   {
    "duration": 155,
    "start_time": "2024-02-12T17:25:07.854Z"
   },
   {
    "duration": 1376,
    "start_time": "2024-02-12T17:25:16.645Z"
   },
   {
    "duration": 136,
    "start_time": "2024-02-12T17:25:26.740Z"
   },
   {
    "duration": 8,
    "start_time": "2024-02-12T17:27:24.732Z"
   },
   {
    "duration": 6,
    "start_time": "2024-02-12T17:27:29.272Z"
   },
   {
    "duration": 158,
    "start_time": "2024-02-12T17:29:19.314Z"
   },
   {
    "duration": 150,
    "start_time": "2024-02-12T17:29:29.827Z"
   },
   {
    "duration": 174,
    "start_time": "2024-02-12T17:30:20.204Z"
   },
   {
    "duration": 12,
    "start_time": "2024-02-12T17:31:08.786Z"
   },
   {
    "duration": 150,
    "start_time": "2024-02-12T17:36:42.766Z"
   },
   {
    "duration": 156,
    "start_time": "2024-02-12T17:36:55.004Z"
   },
   {
    "duration": 4,
    "start_time": "2024-02-12T17:37:29.880Z"
   },
   {
    "duration": 154,
    "start_time": "2024-02-12T17:37:33.398Z"
   },
   {
    "duration": 7,
    "start_time": "2024-02-12T17:38:48.315Z"
   },
   {
    "duration": 205,
    "start_time": "2024-02-12T17:38:53.138Z"
   },
   {
    "duration": 373,
    "start_time": "2024-02-15T08:30:48.111Z"
   },
   {
    "duration": 224,
    "start_time": "2024-02-15T08:30:48.486Z"
   },
   {
    "duration": 17,
    "start_time": "2024-02-15T08:30:48.711Z"
   },
   {
    "duration": 6,
    "start_time": "2024-02-15T08:30:48.730Z"
   },
   {
    "duration": 13,
    "start_time": "2024-02-15T08:30:48.739Z"
   },
   {
    "duration": 14,
    "start_time": "2024-02-15T08:30:48.754Z"
   },
   {
    "duration": 5,
    "start_time": "2024-02-15T08:30:48.769Z"
   },
   {
    "duration": 21,
    "start_time": "2024-02-15T08:30:48.775Z"
   },
   {
    "duration": 597,
    "start_time": "2024-02-15T08:30:48.797Z"
   },
   {
    "duration": 129,
    "start_time": "2024-02-15T08:30:49.396Z"
   },
   {
    "duration": 7,
    "start_time": "2024-02-15T08:30:49.526Z"
   },
   {
    "duration": 170,
    "start_time": "2024-02-15T08:30:49.534Z"
   },
   {
    "duration": 6,
    "start_time": "2024-02-15T08:30:49.705Z"
   },
   {
    "duration": 202,
    "start_time": "2024-02-15T08:30:49.713Z"
   },
   {
    "duration": 6,
    "start_time": "2024-02-15T08:32:50.960Z"
   },
   {
    "duration": 7,
    "start_time": "2024-02-15T08:33:40.733Z"
   },
   {
    "duration": 130,
    "start_time": "2024-02-15T08:34:25.263Z"
   },
   {
    "duration": 129,
    "start_time": "2024-02-15T08:34:43.353Z"
   },
   {
    "duration": 75,
    "start_time": "2024-02-15T08:40:15.457Z"
   },
   {
    "duration": 24,
    "start_time": "2024-02-15T08:40:27.998Z"
   },
   {
    "duration": 27,
    "start_time": "2024-02-15T08:41:15.734Z"
   },
   {
    "duration": 27,
    "start_time": "2024-02-15T08:42:23.965Z"
   },
   {
    "duration": 22,
    "start_time": "2024-02-15T08:42:55.624Z"
   },
   {
    "duration": 5,
    "start_time": "2024-02-15T08:43:52.793Z"
   },
   {
    "duration": 10,
    "start_time": "2024-02-15T08:44:19.805Z"
   },
   {
    "duration": 6,
    "start_time": "2024-02-15T08:44:35.553Z"
   },
   {
    "duration": 8,
    "start_time": "2024-02-15T08:44:48.485Z"
   },
   {
    "duration": 5,
    "start_time": "2024-02-15T08:47:01.513Z"
   },
   {
    "duration": 27,
    "start_time": "2024-02-15T08:51:42.645Z"
   },
   {
    "duration": 26,
    "start_time": "2024-02-15T08:52:21.142Z"
   },
   {
    "duration": 21,
    "start_time": "2024-02-15T08:52:38.934Z"
   },
   {
    "duration": 23,
    "start_time": "2024-02-15T08:52:43.847Z"
   },
   {
    "duration": 130,
    "start_time": "2024-02-15T08:53:44.113Z"
   },
   {
    "duration": 26,
    "start_time": "2024-02-15T09:10:39.976Z"
   },
   {
    "duration": 20,
    "start_time": "2024-02-15T09:11:10.983Z"
   },
   {
    "duration": 18,
    "start_time": "2024-02-15T09:12:31.103Z"
   },
   {
    "duration": 9,
    "start_time": "2024-02-15T09:14:52.590Z"
   },
   {
    "duration": 18,
    "start_time": "2024-02-15T09:15:08.957Z"
   },
   {
    "duration": 24,
    "start_time": "2024-02-15T09:16:02.065Z"
   },
   {
    "duration": 622,
    "start_time": "2024-02-15T09:19:55.684Z"
   },
   {
    "duration": 515,
    "start_time": "2024-02-15T09:20:11.313Z"
   },
   {
    "duration": 267,
    "start_time": "2024-02-15T09:21:50.635Z"
   },
   {
    "duration": 192,
    "start_time": "2024-02-15T09:22:34.670Z"
   },
   {
    "duration": 512,
    "start_time": "2024-02-15T09:22:52.489Z"
   },
   {
    "duration": 515,
    "start_time": "2024-02-15T09:23:11.608Z"
   },
   {
    "duration": 597,
    "start_time": "2024-02-15T09:23:20.922Z"
   },
   {
    "duration": 682,
    "start_time": "2024-02-15T09:23:26.219Z"
   },
   {
    "duration": 563,
    "start_time": "2024-02-15T09:23:52.123Z"
   },
   {
    "duration": 125,
    "start_time": "2024-02-15T09:31:12.694Z"
   },
   {
    "duration": 5,
    "start_time": "2024-02-15T09:31:25.074Z"
   },
   {
    "duration": 3,
    "start_time": "2024-02-15T09:31:29.389Z"
   },
   {
    "duration": 106,
    "start_time": "2024-02-15T09:31:29.394Z"
   },
   {
    "duration": 10,
    "start_time": "2024-02-15T09:31:29.502Z"
   },
   {
    "duration": 5,
    "start_time": "2024-02-15T09:31:29.514Z"
   },
   {
    "duration": 10,
    "start_time": "2024-02-15T09:31:29.521Z"
   },
   {
    "duration": 23,
    "start_time": "2024-02-15T09:31:29.532Z"
   },
   {
    "duration": 9,
    "start_time": "2024-02-15T09:31:29.558Z"
   },
   {
    "duration": 13,
    "start_time": "2024-02-15T09:31:29.569Z"
   },
   {
    "duration": 198,
    "start_time": "2024-02-15T09:31:29.584Z"
   },
   {
    "duration": 119,
    "start_time": "2024-02-15T09:31:29.784Z"
   },
   {
    "duration": 7,
    "start_time": "2024-02-15T09:31:29.905Z"
   },
   {
    "duration": 144,
    "start_time": "2024-02-15T09:31:29.914Z"
   },
   {
    "duration": 9,
    "start_time": "2024-02-15T09:31:30.060Z"
   },
   {
    "duration": 253,
    "start_time": "2024-02-15T09:31:30.071Z"
   },
   {
    "duration": 141,
    "start_time": "2024-02-15T09:31:30.326Z"
   },
   {
    "duration": 5,
    "start_time": "2024-02-15T09:31:30.469Z"
   },
   {
    "duration": 51,
    "start_time": "2024-02-15T09:31:30.476Z"
   },
   {
    "duration": 49,
    "start_time": "2024-02-15T09:31:30.529Z"
   },
   {
    "duration": 46,
    "start_time": "2024-02-15T09:31:30.580Z"
   },
   {
    "duration": 673,
    "start_time": "2024-02-15T09:31:30.627Z"
   },
   {
    "duration": 555,
    "start_time": "2024-02-15T09:31:31.302Z"
   },
   {
    "duration": 5,
    "start_time": "2024-02-15T09:31:40.802Z"
   },
   {
    "duration": 17,
    "start_time": "2024-02-15T09:32:01.303Z"
   },
   {
    "duration": 11,
    "start_time": "2024-02-15T09:41:43.862Z"
   },
   {
    "duration": 10,
    "start_time": "2024-02-15T09:42:47.262Z"
   },
   {
    "duration": 12,
    "start_time": "2024-02-15T09:43:08.110Z"
   },
   {
    "duration": 22,
    "start_time": "2024-02-15T09:43:14.674Z"
   },
   {
    "duration": 89,
    "start_time": "2024-02-15T09:44:33.366Z"
   },
   {
    "duration": 71,
    "start_time": "2024-02-15T09:44:39.773Z"
   },
   {
    "duration": 20,
    "start_time": "2024-02-15T09:44:51.363Z"
   },
   {
    "duration": 31,
    "start_time": "2024-02-15T09:48:06.295Z"
   },
   {
    "duration": 25,
    "start_time": "2024-02-15T09:48:58.162Z"
   },
   {
    "duration": 4,
    "start_time": "2024-02-15T09:51:34.496Z"
   },
   {
    "duration": 7,
    "start_time": "2024-02-15T09:53:00.113Z"
   },
   {
    "duration": 21,
    "start_time": "2024-02-15T09:53:05.876Z"
   },
   {
    "duration": 6,
    "start_time": "2024-02-15T09:53:36.011Z"
   },
   {
    "duration": 10,
    "start_time": "2024-02-15T09:53:42.967Z"
   },
   {
    "duration": 3,
    "start_time": "2024-02-15T09:56:22.197Z"
   },
   {
    "duration": 15,
    "start_time": "2024-02-15T09:56:27.299Z"
   },
   {
    "duration": 4,
    "start_time": "2024-02-15T10:01:38.624Z"
   },
   {
    "duration": 8,
    "start_time": "2024-02-15T10:01:45.794Z"
   },
   {
    "duration": 9,
    "start_time": "2024-02-15T10:02:16.996Z"
   },
   {
    "duration": 13,
    "start_time": "2024-02-15T10:27:19.914Z"
   },
   {
    "duration": 861,
    "start_time": "2024-02-15T10:27:36.784Z"
   },
   {
    "duration": 5,
    "start_time": "2024-02-15T10:27:49.362Z"
   },
   {
    "duration": 16,
    "start_time": "2024-02-15T10:28:16.036Z"
   },
   {
    "duration": 7,
    "start_time": "2024-02-15T10:34:07.675Z"
   },
   {
    "duration": 18,
    "start_time": "2024-02-15T10:34:12.448Z"
   },
   {
    "duration": 20,
    "start_time": "2024-02-15T10:36:03.830Z"
   },
   {
    "duration": 3,
    "start_time": "2024-02-15T10:36:36.715Z"
   },
   {
    "duration": 101,
    "start_time": "2024-02-15T10:36:36.720Z"
   },
   {
    "duration": 11,
    "start_time": "2024-02-15T10:36:36.823Z"
   },
   {
    "duration": 6,
    "start_time": "2024-02-15T10:36:36.835Z"
   },
   {
    "duration": 8,
    "start_time": "2024-02-15T10:36:36.842Z"
   },
   {
    "duration": 20,
    "start_time": "2024-02-15T10:36:36.851Z"
   },
   {
    "duration": 6,
    "start_time": "2024-02-15T10:36:36.873Z"
   },
   {
    "duration": 12,
    "start_time": "2024-02-15T10:36:36.881Z"
   },
   {
    "duration": 237,
    "start_time": "2024-02-15T10:36:36.895Z"
   },
   {
    "duration": 120,
    "start_time": "2024-02-15T10:36:37.133Z"
   },
   {
    "duration": 7,
    "start_time": "2024-02-15T10:36:37.265Z"
   },
   {
    "duration": 245,
    "start_time": "2024-02-15T10:36:37.274Z"
   },
   {
    "duration": 6,
    "start_time": "2024-02-15T10:36:37.521Z"
   },
   {
    "duration": 154,
    "start_time": "2024-02-15T10:36:37.528Z"
   },
   {
    "duration": 134,
    "start_time": "2024-02-15T10:36:37.684Z"
   },
   {
    "duration": 5,
    "start_time": "2024-02-15T10:36:37.819Z"
   },
   {
    "duration": 16,
    "start_time": "2024-02-15T10:36:37.826Z"
   },
   {
    "duration": 34,
    "start_time": "2024-02-15T10:36:37.844Z"
   },
   {
    "duration": 18,
    "start_time": "2024-02-15T10:36:37.879Z"
   },
   {
    "duration": 606,
    "start_time": "2024-02-15T10:36:37.898Z"
   },
   {
    "duration": 596,
    "start_time": "2024-02-15T10:36:38.506Z"
   },
   {
    "duration": 17,
    "start_time": "2024-02-15T10:36:39.104Z"
   },
   {
    "duration": 786,
    "start_time": "2024-02-15T10:36:39.122Z"
   },
   {
    "duration": 3,
    "start_time": "2024-02-15T10:36:39.910Z"
   },
   {
    "duration": 18,
    "start_time": "2024-02-15T10:36:39.915Z"
   },
   {
    "duration": 8,
    "start_time": "2024-02-15T10:36:39.934Z"
   },
   {
    "duration": 30,
    "start_time": "2024-02-15T10:36:39.944Z"
   },
   {
    "duration": 11,
    "start_time": "2024-02-15T10:42:11.862Z"
   },
   {
    "duration": 111,
    "start_time": "2024-02-15T10:42:21.106Z"
   },
   {
    "duration": 14,
    "start_time": "2024-02-15T10:42:34.200Z"
   },
   {
    "duration": 7,
    "start_time": "2024-02-15T10:42:53.032Z"
   },
   {
    "duration": 14,
    "start_time": "2024-02-15T10:43:09.526Z"
   },
   {
    "duration": 3,
    "start_time": "2024-02-15T10:46:04.489Z"
   },
   {
    "duration": 133,
    "start_time": "2024-02-15T10:46:04.493Z"
   },
   {
    "duration": 12,
    "start_time": "2024-02-15T10:46:04.627Z"
   },
   {
    "duration": 17,
    "start_time": "2024-02-15T10:46:04.640Z"
   },
   {
    "duration": 22,
    "start_time": "2024-02-15T10:46:04.660Z"
   },
   {
    "duration": 14,
    "start_time": "2024-02-15T10:46:04.685Z"
   },
   {
    "duration": 20,
    "start_time": "2024-02-15T10:46:04.700Z"
   },
   {
    "duration": 12,
    "start_time": "2024-02-15T10:46:04.722Z"
   },
   {
    "duration": 197,
    "start_time": "2024-02-15T10:46:04.735Z"
   },
   {
    "duration": 133,
    "start_time": "2024-02-15T10:46:04.934Z"
   },
   {
    "duration": 9,
    "start_time": "2024-02-15T10:46:05.069Z"
   },
   {
    "duration": 158,
    "start_time": "2024-02-15T10:46:05.080Z"
   },
   {
    "duration": 6,
    "start_time": "2024-02-15T10:46:05.242Z"
   },
   {
    "duration": 148,
    "start_time": "2024-02-15T10:46:05.250Z"
   },
   {
    "duration": 137,
    "start_time": "2024-02-15T10:46:05.400Z"
   },
   {
    "duration": 5,
    "start_time": "2024-02-15T10:46:05.539Z"
   },
   {
    "duration": 29,
    "start_time": "2024-02-15T10:46:05.545Z"
   },
   {
    "duration": 19,
    "start_time": "2024-02-15T10:46:05.576Z"
   },
   {
    "duration": 27,
    "start_time": "2024-02-15T10:46:05.596Z"
   },
   {
    "duration": 631,
    "start_time": "2024-02-15T10:46:05.625Z"
   },
   {
    "duration": 647,
    "start_time": "2024-02-15T10:46:06.258Z"
   },
   {
    "duration": 17,
    "start_time": "2024-02-15T10:46:06.907Z"
   },
   {
    "duration": 887,
    "start_time": "2024-02-15T10:46:06.926Z"
   },
   {
    "duration": 3,
    "start_time": "2024-02-15T10:46:07.815Z"
   },
   {
    "duration": 16,
    "start_time": "2024-02-15T10:46:07.820Z"
   },
   {
    "duration": 8,
    "start_time": "2024-02-15T10:46:07.838Z"
   },
   {
    "duration": 16,
    "start_time": "2024-02-15T10:46:07.865Z"
   },
   {
    "duration": 13,
    "start_time": "2024-02-15T10:46:07.882Z"
   },
   {
    "duration": 7,
    "start_time": "2024-02-15T10:47:14.065Z"
   },
   {
    "duration": 4,
    "start_time": "2024-02-15T10:47:17.551Z"
   },
   {
    "duration": 7,
    "start_time": "2024-02-15T11:03:50.701Z"
   },
   {
    "duration": 7,
    "start_time": "2024-02-15T11:07:32.955Z"
   },
   {
    "duration": 503,
    "start_time": "2024-02-15T11:19:14.320Z"
   },
   {
    "duration": 100,
    "start_time": "2024-02-15T11:19:42.545Z"
   },
   {
    "duration": 15,
    "start_time": "2024-02-15T11:20:37.272Z"
   },
   {
    "duration": 7,
    "start_time": "2024-02-15T11:21:05.068Z"
   },
   {
    "duration": 9,
    "start_time": "2024-02-15T11:22:22.274Z"
   },
   {
    "duration": 10,
    "start_time": "2024-02-15T11:27:03.989Z"
   },
   {
    "duration": 10,
    "start_time": "2024-02-15T11:27:14.930Z"
   },
   {
    "duration": 7,
    "start_time": "2024-02-15T11:47:40.015Z"
   },
   {
    "duration": 6,
    "start_time": "2024-02-15T11:50:48.124Z"
   },
   {
    "duration": 6,
    "start_time": "2024-02-15T11:54:48.089Z"
   },
   {
    "duration": 5,
    "start_time": "2024-02-15T11:56:26.062Z"
   },
   {
    "duration": 6,
    "start_time": "2024-02-15T12:00:52.094Z"
   },
   {
    "duration": 7,
    "start_time": "2024-02-15T12:03:08.360Z"
   },
   {
    "duration": 9,
    "start_time": "2024-02-15T12:14:49.197Z"
   },
   {
    "duration": 79,
    "start_time": "2024-02-15T12:16:44.451Z"
   },
   {
    "duration": 9,
    "start_time": "2024-02-15T12:16:51.141Z"
   },
   {
    "duration": 461,
    "start_time": "2024-02-15T16:20:05.250Z"
   },
   {
    "duration": 310,
    "start_time": "2024-02-15T16:20:05.713Z"
   },
   {
    "duration": 16,
    "start_time": "2024-02-15T16:20:06.025Z"
   },
   {
    "duration": 5,
    "start_time": "2024-02-15T16:20:06.043Z"
   },
   {
    "duration": 8,
    "start_time": "2024-02-15T16:20:06.050Z"
   },
   {
    "duration": 24,
    "start_time": "2024-02-15T16:20:06.059Z"
   },
   {
    "duration": 4,
    "start_time": "2024-02-15T16:20:06.085Z"
   },
   {
    "duration": 11,
    "start_time": "2024-02-15T16:20:06.091Z"
   },
   {
    "duration": 791,
    "start_time": "2024-02-15T16:20:06.103Z"
   },
   {
    "duration": 210,
    "start_time": "2024-02-15T16:20:06.896Z"
   },
   {
    "duration": 8,
    "start_time": "2024-02-15T16:20:07.108Z"
   },
   {
    "duration": 365,
    "start_time": "2024-02-15T16:20:07.118Z"
   },
   {
    "duration": 7,
    "start_time": "2024-02-15T16:20:07.486Z"
   },
   {
    "duration": 391,
    "start_time": "2024-02-15T16:20:07.497Z"
   },
   {
    "duration": 154,
    "start_time": "2024-02-15T16:20:07.890Z"
   },
   {
    "duration": 36,
    "start_time": "2024-02-15T16:20:08.046Z"
   },
   {
    "duration": 28,
    "start_time": "2024-02-15T16:20:08.084Z"
   },
   {
    "duration": 89,
    "start_time": "2024-02-15T16:20:08.114Z"
   },
   {
    "duration": 19,
    "start_time": "2024-02-15T16:20:08.205Z"
   },
   {
    "duration": 1782,
    "start_time": "2024-02-15T16:20:08.225Z"
   },
   {
    "duration": 1294,
    "start_time": "2024-02-15T16:20:10.008Z"
   },
   {
    "duration": 17,
    "start_time": "2024-02-15T16:20:11.304Z"
   },
   {
    "duration": 1644,
    "start_time": "2024-02-15T16:20:11.381Z"
   },
   {
    "duration": 5,
    "start_time": "2024-02-15T16:20:13.079Z"
   },
   {
    "duration": 17,
    "start_time": "2024-02-15T16:20:13.085Z"
   },
   {
    "duration": 9,
    "start_time": "2024-02-15T16:20:13.104Z"
   },
   {
    "duration": 78,
    "start_time": "2024-02-15T16:20:13.114Z"
   },
   {
    "duration": 14,
    "start_time": "2024-02-15T16:20:13.194Z"
   },
   {
    "duration": 4,
    "start_time": "2024-02-15T16:20:13.210Z"
   },
   {
    "duration": 877,
    "start_time": "2024-02-15T16:20:13.216Z"
   },
   {
    "duration": 6,
    "start_time": "2024-02-15T16:20:14.095Z"
   },
   {
    "duration": 84,
    "start_time": "2024-02-15T16:20:14.102Z"
   },
   {
    "duration": 7,
    "start_time": "2024-02-15T16:34:20.090Z"
   },
   {
    "duration": 5,
    "start_time": "2024-02-15T16:35:49.522Z"
   },
   {
    "duration": 10,
    "start_time": "2024-02-15T16:40:05.525Z"
   },
   {
    "duration": 9,
    "start_time": "2024-02-15T16:40:07.976Z"
   },
   {
    "duration": 47,
    "start_time": "2024-02-15T20:11:04.919Z"
   },
   {
    "duration": 414,
    "start_time": "2024-02-15T20:11:09.375Z"
   },
   {
    "duration": 212,
    "start_time": "2024-02-15T20:11:09.790Z"
   },
   {
    "duration": 15,
    "start_time": "2024-02-15T20:11:10.003Z"
   },
   {
    "duration": 15,
    "start_time": "2024-02-15T20:11:10.020Z"
   },
   {
    "duration": 9,
    "start_time": "2024-02-15T20:11:10.036Z"
   },
   {
    "duration": 9,
    "start_time": "2024-02-15T20:11:10.047Z"
   },
   {
    "duration": 9,
    "start_time": "2024-02-15T20:11:10.057Z"
   },
   {
    "duration": 10,
    "start_time": "2024-02-15T20:11:10.067Z"
   },
   {
    "duration": 602,
    "start_time": "2024-02-15T20:11:10.078Z"
   },
   {
    "duration": 0,
    "start_time": "2024-02-15T20:11:10.682Z"
   },
   {
    "duration": 0,
    "start_time": "2024-02-15T20:11:10.683Z"
   },
   {
    "duration": 0,
    "start_time": "2024-02-15T20:11:10.684Z"
   },
   {
    "duration": 0,
    "start_time": "2024-02-15T20:11:10.685Z"
   },
   {
    "duration": 0,
    "start_time": "2024-02-15T20:11:10.686Z"
   },
   {
    "duration": 0,
    "start_time": "2024-02-15T20:11:10.687Z"
   },
   {
    "duration": 0,
    "start_time": "2024-02-15T20:11:10.688Z"
   },
   {
    "duration": 0,
    "start_time": "2024-02-15T20:11:10.689Z"
   },
   {
    "duration": 0,
    "start_time": "2024-02-15T20:11:10.690Z"
   },
   {
    "duration": 0,
    "start_time": "2024-02-15T20:11:10.691Z"
   },
   {
    "duration": 0,
    "start_time": "2024-02-15T20:11:10.692Z"
   },
   {
    "duration": 0,
    "start_time": "2024-02-15T20:11:10.693Z"
   },
   {
    "duration": 0,
    "start_time": "2024-02-15T20:11:10.694Z"
   },
   {
    "duration": 0,
    "start_time": "2024-02-15T20:11:10.695Z"
   },
   {
    "duration": 0,
    "start_time": "2024-02-15T20:11:10.696Z"
   },
   {
    "duration": 0,
    "start_time": "2024-02-15T20:11:10.697Z"
   },
   {
    "duration": 0,
    "start_time": "2024-02-15T20:11:10.698Z"
   },
   {
    "duration": 0,
    "start_time": "2024-02-15T20:11:10.699Z"
   },
   {
    "duration": 0,
    "start_time": "2024-02-15T20:11:10.700Z"
   },
   {
    "duration": 0,
    "start_time": "2024-02-15T20:11:10.701Z"
   },
   {
    "duration": 0,
    "start_time": "2024-02-15T20:11:10.702Z"
   },
   {
    "duration": 0,
    "start_time": "2024-02-15T20:11:10.703Z"
   },
   {
    "duration": 0,
    "start_time": "2024-02-15T20:11:10.704Z"
   },
   {
    "duration": 2,
    "start_time": "2024-02-15T20:11:23.354Z"
   },
   {
    "duration": 111,
    "start_time": "2024-02-15T20:11:23.358Z"
   },
   {
    "duration": 11,
    "start_time": "2024-02-15T20:11:23.471Z"
   },
   {
    "duration": 5,
    "start_time": "2024-02-15T20:11:23.483Z"
   },
   {
    "duration": 7,
    "start_time": "2024-02-15T20:11:23.490Z"
   },
   {
    "duration": 9,
    "start_time": "2024-02-15T20:11:23.498Z"
   },
   {
    "duration": 7,
    "start_time": "2024-02-15T20:11:23.508Z"
   },
   {
    "duration": 9,
    "start_time": "2024-02-15T20:11:23.517Z"
   },
   {
    "duration": 204,
    "start_time": "2024-02-15T20:11:23.565Z"
   },
   {
    "duration": 0,
    "start_time": "2024-02-15T20:11:23.772Z"
   },
   {
    "duration": 0,
    "start_time": "2024-02-15T20:11:23.773Z"
   },
   {
    "duration": 0,
    "start_time": "2024-02-15T20:11:23.775Z"
   },
   {
    "duration": 0,
    "start_time": "2024-02-15T20:11:23.776Z"
   },
   {
    "duration": 0,
    "start_time": "2024-02-15T20:11:23.777Z"
   },
   {
    "duration": 0,
    "start_time": "2024-02-15T20:11:23.779Z"
   },
   {
    "duration": 0,
    "start_time": "2024-02-15T20:11:23.780Z"
   },
   {
    "duration": 1,
    "start_time": "2024-02-15T20:11:23.781Z"
   },
   {
    "duration": 0,
    "start_time": "2024-02-15T20:11:23.783Z"
   },
   {
    "duration": 0,
    "start_time": "2024-02-15T20:11:23.784Z"
   },
   {
    "duration": 0,
    "start_time": "2024-02-15T20:11:23.786Z"
   },
   {
    "duration": 0,
    "start_time": "2024-02-15T20:11:23.787Z"
   },
   {
    "duration": 0,
    "start_time": "2024-02-15T20:11:23.789Z"
   },
   {
    "duration": 0,
    "start_time": "2024-02-15T20:11:23.790Z"
   },
   {
    "duration": 0,
    "start_time": "2024-02-15T20:11:23.792Z"
   },
   {
    "duration": 0,
    "start_time": "2024-02-15T20:11:23.793Z"
   },
   {
    "duration": 0,
    "start_time": "2024-02-15T20:11:23.794Z"
   },
   {
    "duration": 0,
    "start_time": "2024-02-15T20:11:23.796Z"
   },
   {
    "duration": 0,
    "start_time": "2024-02-15T20:11:23.797Z"
   },
   {
    "duration": 0,
    "start_time": "2024-02-15T20:11:23.799Z"
   },
   {
    "duration": 0,
    "start_time": "2024-02-15T20:11:23.800Z"
   },
   {
    "duration": 0,
    "start_time": "2024-02-15T20:11:23.904Z"
   },
   {
    "duration": 0,
    "start_time": "2024-02-15T20:11:23.906Z"
   },
   {
    "duration": 110,
    "start_time": "2024-02-15T20:38:26.636Z"
   },
   {
    "duration": 166,
    "start_time": "2024-02-15T20:39:33.232Z"
   },
   {
    "duration": 167,
    "start_time": "2024-02-15T20:43:53.610Z"
   },
   {
    "duration": 155,
    "start_time": "2024-02-15T20:44:06.905Z"
   },
   {
    "duration": 111,
    "start_time": "2024-02-15T20:47:04.574Z"
   },
   {
    "duration": 110,
    "start_time": "2024-02-15T20:47:40.521Z"
   },
   {
    "duration": 136,
    "start_time": "2024-02-15T20:47:48.815Z"
   },
   {
    "duration": 117,
    "start_time": "2024-02-15T20:48:14.009Z"
   },
   {
    "duration": 107,
    "start_time": "2024-02-15T20:49:17.385Z"
   },
   {
    "duration": 8,
    "start_time": "2024-02-15T20:50:40.292Z"
   },
   {
    "duration": 134,
    "start_time": "2024-02-15T20:50:46.372Z"
   },
   {
    "duration": 168,
    "start_time": "2024-02-15T20:50:57.546Z"
   },
   {
    "duration": 265,
    "start_time": "2024-02-15T20:52:10.580Z"
   },
   {
    "duration": 188,
    "start_time": "2024-02-15T20:52:16.964Z"
   },
   {
    "duration": 3,
    "start_time": "2024-02-15T20:53:15.322Z"
   },
   {
    "duration": 88,
    "start_time": "2024-02-15T20:53:15.328Z"
   },
   {
    "duration": 11,
    "start_time": "2024-02-15T20:53:15.420Z"
   },
   {
    "duration": 6,
    "start_time": "2024-02-15T20:53:15.432Z"
   },
   {
    "duration": 8,
    "start_time": "2024-02-15T20:53:15.440Z"
   },
   {
    "duration": 19,
    "start_time": "2024-02-15T20:53:15.449Z"
   },
   {
    "duration": 4,
    "start_time": "2024-02-15T20:53:15.469Z"
   },
   {
    "duration": 10,
    "start_time": "2024-02-15T20:53:15.475Z"
   },
   {
    "duration": 213,
    "start_time": "2024-02-15T20:53:15.486Z"
   },
   {
    "duration": 119,
    "start_time": "2024-02-15T20:53:15.700Z"
   },
   {
    "duration": 7,
    "start_time": "2024-02-15T20:53:15.823Z"
   },
   {
    "duration": 150,
    "start_time": "2024-02-15T20:53:15.831Z"
   },
   {
    "duration": 6,
    "start_time": "2024-02-15T20:53:15.982Z"
   },
   {
    "duration": 147,
    "start_time": "2024-02-15T20:53:15.990Z"
   },
   {
    "duration": 134,
    "start_time": "2024-02-15T20:53:16.138Z"
   },
   {
    "duration": 5,
    "start_time": "2024-02-15T20:53:16.273Z"
   },
   {
    "duration": 22,
    "start_time": "2024-02-15T20:53:16.280Z"
   },
   {
    "duration": 17,
    "start_time": "2024-02-15T20:53:16.303Z"
   },
   {
    "duration": 16,
    "start_time": "2024-02-15T20:53:16.321Z"
   },
   {
    "duration": 632,
    "start_time": "2024-02-15T20:53:16.338Z"
   },
   {
    "duration": 613,
    "start_time": "2024-02-15T20:53:16.972Z"
   },
   {
    "duration": 17,
    "start_time": "2024-02-15T20:53:17.587Z"
   },
   {
    "duration": 802,
    "start_time": "2024-02-15T20:53:17.606Z"
   },
   {
    "duration": 4,
    "start_time": "2024-02-15T20:53:18.410Z"
   },
   {
    "duration": 13,
    "start_time": "2024-02-15T20:53:18.417Z"
   },
   {
    "duration": 9,
    "start_time": "2024-02-15T20:53:18.432Z"
   },
   {
    "duration": 14,
    "start_time": "2024-02-15T20:53:18.465Z"
   },
   {
    "duration": 12,
    "start_time": "2024-02-15T20:53:18.481Z"
   },
   {
    "duration": 3,
    "start_time": "2024-02-15T20:53:18.495Z"
   },
   {
    "duration": 460,
    "start_time": "2024-02-15T20:53:18.499Z"
   },
   {
    "duration": 5,
    "start_time": "2024-02-15T20:53:18.965Z"
   },
   {
    "duration": 13,
    "start_time": "2024-02-15T20:53:18.972Z"
   },
   {
    "duration": 173,
    "start_time": "2024-02-15T21:12:52.988Z"
   },
   {
    "duration": 85,
    "start_time": "2024-02-15T21:13:25.815Z"
   },
   {
    "duration": 169,
    "start_time": "2024-02-15T21:13:33.344Z"
   },
   {
    "duration": 213,
    "start_time": "2024-02-15T21:14:05.480Z"
   },
   {
    "duration": 140,
    "start_time": "2024-02-15T21:14:13.627Z"
   },
   {
    "duration": 119,
    "start_time": "2024-02-15T21:14:27.425Z"
   },
   {
    "duration": 156,
    "start_time": "2024-02-15T21:17:06.311Z"
   },
   {
    "duration": 131,
    "start_time": "2024-02-15T21:17:36.771Z"
   },
   {
    "duration": 128,
    "start_time": "2024-02-15T21:18:02.853Z"
   },
   {
    "duration": 145,
    "start_time": "2024-02-15T21:19:07.392Z"
   },
   {
    "duration": 147,
    "start_time": "2024-02-15T21:19:44.333Z"
   },
   {
    "duration": 38,
    "start_time": "2024-02-15T21:24:53.212Z"
   },
   {
    "duration": 110,
    "start_time": "2024-02-15T21:27:23.661Z"
   },
   {
    "duration": 11,
    "start_time": "2024-02-15T21:29:22.891Z"
   },
   {
    "duration": 56,
    "start_time": "2024-02-15T21:29:38.413Z"
   },
   {
    "duration": 60,
    "start_time": "2024-02-15T21:30:02.278Z"
   },
   {
    "duration": 128,
    "start_time": "2024-02-15T21:32:57.068Z"
   },
   {
    "duration": 68,
    "start_time": "2024-02-15T21:33:15.685Z"
   },
   {
    "duration": 136,
    "start_time": "2024-02-15T21:35:12.029Z"
   },
   {
    "duration": 142,
    "start_time": "2024-02-15T21:36:01.383Z"
   },
   {
    "duration": 135,
    "start_time": "2024-02-15T21:36:11.748Z"
   },
   {
    "duration": 143,
    "start_time": "2024-02-15T21:36:39.706Z"
   },
   {
    "duration": 3,
    "start_time": "2024-02-15T21:38:31.198Z"
   },
   {
    "duration": 111,
    "start_time": "2024-02-15T21:38:31.203Z"
   },
   {
    "duration": 11,
    "start_time": "2024-02-15T21:38:31.316Z"
   },
   {
    "duration": 21,
    "start_time": "2024-02-15T21:38:31.330Z"
   },
   {
    "duration": 55,
    "start_time": "2024-02-15T21:38:31.352Z"
   },
   {
    "duration": 26,
    "start_time": "2024-02-15T21:38:31.408Z"
   },
   {
    "duration": 29,
    "start_time": "2024-02-15T21:38:31.436Z"
   },
   {
    "duration": 46,
    "start_time": "2024-02-15T21:38:31.466Z"
   },
   {
    "duration": 197,
    "start_time": "2024-02-15T21:38:31.514Z"
   },
   {
    "duration": 76,
    "start_time": "2024-02-15T21:38:31.712Z"
   },
   {
    "duration": 7,
    "start_time": "2024-02-15T21:38:31.790Z"
   },
   {
    "duration": 160,
    "start_time": "2024-02-15T21:38:31.798Z"
   },
   {
    "duration": 6,
    "start_time": "2024-02-15T21:38:31.965Z"
   },
   {
    "duration": 166,
    "start_time": "2024-02-15T21:38:31.972Z"
   },
   {
    "duration": 226,
    "start_time": "2024-02-15T21:38:32.139Z"
   },
   {
    "duration": 17,
    "start_time": "2024-02-15T21:38:32.366Z"
   },
   {
    "duration": 21,
    "start_time": "2024-02-15T21:38:32.385Z"
   },
   {
    "duration": 16,
    "start_time": "2024-02-15T21:38:32.407Z"
   },
   {
    "duration": 176,
    "start_time": "2024-02-15T21:38:32.425Z"
   },
   {
    "duration": 135,
    "start_time": "2024-02-15T21:38:32.602Z"
   },
   {
    "duration": 146,
    "start_time": "2024-02-15T21:38:32.739Z"
   },
   {
    "duration": 143,
    "start_time": "2024-02-15T21:38:32.887Z"
   },
   {
    "duration": 3,
    "start_time": "2024-02-15T21:38:38.503Z"
   },
   {
    "duration": 755,
    "start_time": "2024-02-15T21:38:43.980Z"
   },
   {
    "duration": 4,
    "start_time": "2024-02-15T21:38:52.785Z"
   },
   {
    "duration": 16,
    "start_time": "2024-02-15T21:38:55.841Z"
   },
   {
    "duration": 9,
    "start_time": "2024-02-15T21:39:01.456Z"
   },
   {
    "duration": 17,
    "start_time": "2024-02-15T21:39:04.808Z"
   },
   {
    "duration": 15,
    "start_time": "2024-02-15T21:39:07.780Z"
   },
   {
    "duration": 4,
    "start_time": "2024-02-15T21:39:10.825Z"
   },
   {
    "duration": 15,
    "start_time": "2024-02-15T21:40:12.043Z"
   },
   {
    "duration": 6,
    "start_time": "2024-02-15T21:40:43.672Z"
   },
   {
    "duration": 8,
    "start_time": "2024-02-15T21:41:05.705Z"
   },
   {
    "duration": 438,
    "start_time": "2024-02-16T06:45:38.525Z"
   },
   {
    "duration": 314,
    "start_time": "2024-02-16T06:45:38.965Z"
   },
   {
    "duration": 26,
    "start_time": "2024-02-16T06:45:39.281Z"
   },
   {
    "duration": 7,
    "start_time": "2024-02-16T06:45:39.308Z"
   },
   {
    "duration": 12,
    "start_time": "2024-02-16T06:45:39.317Z"
   },
   {
    "duration": 15,
    "start_time": "2024-02-16T06:45:39.331Z"
   },
   {
    "duration": 6,
    "start_time": "2024-02-16T06:45:39.347Z"
   },
   {
    "duration": 10,
    "start_time": "2024-02-16T06:45:39.355Z"
   },
   {
    "duration": 808,
    "start_time": "2024-02-16T06:45:39.367Z"
   },
   {
    "duration": 86,
    "start_time": "2024-02-16T06:45:40.177Z"
   },
   {
    "duration": 9,
    "start_time": "2024-02-16T06:45:40.264Z"
   },
   {
    "duration": 192,
    "start_time": "2024-02-16T06:45:40.274Z"
   },
   {
    "duration": 7,
    "start_time": "2024-02-16T06:45:40.467Z"
   },
   {
    "duration": 251,
    "start_time": "2024-02-16T06:45:40.477Z"
   },
   {
    "duration": 188,
    "start_time": "2024-02-16T06:45:40.730Z"
   },
   {
    "duration": 22,
    "start_time": "2024-02-16T06:45:40.919Z"
   },
   {
    "duration": 23,
    "start_time": "2024-02-16T06:45:40.943Z"
   },
   {
    "duration": 25,
    "start_time": "2024-02-16T06:45:40.993Z"
   },
   {
    "duration": 248,
    "start_time": "2024-02-16T06:45:41.020Z"
   },
   {
    "duration": 185,
    "start_time": "2024-02-16T06:45:41.269Z"
   },
   {
    "duration": 185,
    "start_time": "2024-02-16T06:45:41.455Z"
   },
   {
    "duration": 191,
    "start_time": "2024-02-16T06:45:41.641Z"
   },
   {
    "duration": 4,
    "start_time": "2024-02-16T06:45:41.833Z"
   },
   {
    "duration": 1072,
    "start_time": "2024-02-16T06:45:41.839Z"
   },
   {
    "duration": 5,
    "start_time": "2024-02-16T06:45:42.914Z"
   },
   {
    "duration": 38,
    "start_time": "2024-02-16T06:45:42.921Z"
   },
   {
    "duration": 24,
    "start_time": "2024-02-16T06:45:42.961Z"
   },
   {
    "duration": 26,
    "start_time": "2024-02-16T06:45:42.986Z"
   },
   {
    "duration": 17,
    "start_time": "2024-02-16T06:45:43.014Z"
   },
   {
    "duration": 5,
    "start_time": "2024-02-16T06:45:43.032Z"
   },
   {
    "duration": 595,
    "start_time": "2024-02-16T06:45:43.039Z"
   },
   {
    "duration": 6,
    "start_time": "2024-02-16T06:45:43.635Z"
   },
   {
    "duration": 14,
    "start_time": "2024-02-16T06:45:43.643Z"
   },
   {
    "duration": 11,
    "start_time": "2024-02-16T07:00:31.187Z"
   },
   {
    "duration": 447,
    "start_time": "2024-02-16T08:05:17.757Z"
   },
   {
    "duration": 226,
    "start_time": "2024-02-16T08:05:18.206Z"
   },
   {
    "duration": 17,
    "start_time": "2024-02-16T08:05:18.434Z"
   },
   {
    "duration": 7,
    "start_time": "2024-02-16T08:05:18.453Z"
   },
   {
    "duration": 19,
    "start_time": "2024-02-16T08:05:18.463Z"
   },
   {
    "duration": 10,
    "start_time": "2024-02-16T08:05:18.484Z"
   },
   {
    "duration": 10,
    "start_time": "2024-02-16T08:05:18.496Z"
   },
   {
    "duration": 12,
    "start_time": "2024-02-16T08:05:18.508Z"
   },
   {
    "duration": 536,
    "start_time": "2024-02-16T08:05:18.522Z"
   },
   {
    "duration": 99,
    "start_time": "2024-02-16T08:05:19.061Z"
   },
   {
    "duration": 9,
    "start_time": "2024-02-16T08:05:19.161Z"
   },
   {
    "duration": 175,
    "start_time": "2024-02-16T08:05:19.171Z"
   },
   {
    "duration": 15,
    "start_time": "2024-02-16T08:05:19.348Z"
   },
   {
    "duration": 177,
    "start_time": "2024-02-16T08:05:19.368Z"
   },
   {
    "duration": 224,
    "start_time": "2024-02-16T08:05:19.547Z"
   },
   {
    "duration": 18,
    "start_time": "2024-02-16T08:05:19.773Z"
   },
   {
    "duration": 28,
    "start_time": "2024-02-16T08:05:19.793Z"
   },
   {
    "duration": 40,
    "start_time": "2024-02-16T08:05:19.822Z"
   },
   {
    "duration": 188,
    "start_time": "2024-02-16T08:05:19.864Z"
   },
   {
    "duration": 157,
    "start_time": "2024-02-16T08:05:20.059Z"
   },
   {
    "duration": 179,
    "start_time": "2024-02-16T08:05:20.218Z"
   },
   {
    "duration": 177,
    "start_time": "2024-02-16T08:05:20.400Z"
   },
   {
    "duration": 4,
    "start_time": "2024-02-16T08:05:20.579Z"
   },
   {
    "duration": 926,
    "start_time": "2024-02-16T08:05:20.584Z"
   },
   {
    "duration": 4,
    "start_time": "2024-02-16T08:05:21.512Z"
   },
   {
    "duration": 22,
    "start_time": "2024-02-16T08:05:21.518Z"
   },
   {
    "duration": 26,
    "start_time": "2024-02-16T08:05:21.542Z"
   },
   {
    "duration": 16,
    "start_time": "2024-02-16T08:05:21.569Z"
   },
   {
    "duration": 18,
    "start_time": "2024-02-16T08:05:21.587Z"
   },
   {
    "duration": 4,
    "start_time": "2024-02-16T08:05:21.607Z"
   },
   {
    "duration": 485,
    "start_time": "2024-02-16T08:05:21.613Z"
   },
   {
    "duration": 5,
    "start_time": "2024-02-16T08:05:22.100Z"
   },
   {
    "duration": 45,
    "start_time": "2024-02-16T08:05:22.107Z"
   },
   {
    "duration": 122,
    "start_time": "2024-02-16T08:05:22.154Z"
   },
   {
    "duration": 20,
    "start_time": "2024-02-16T08:06:34.011Z"
   }
  ],
  "kernelspec": {
   "display_name": "Python 3 (ipykernel)",
   "language": "python",
   "name": "python3"
  },
  "language_info": {
   "codemirror_mode": {
    "name": "ipython",
    "version": 3
   },
   "file_extension": ".py",
   "mimetype": "text/x-python",
   "name": "python",
   "nbconvert_exporter": "python",
   "pygments_lexer": "ipython3",
   "version": "3.9.5"
  },
  "toc": {
   "base_numbering": 1,
   "nav_menu": {},
   "number_sections": true,
   "sideBar": true,
   "skip_h1_title": true,
   "title_cell": "Table of Contents",
   "title_sidebar": "Contents",
   "toc_cell": false,
   "toc_position": {},
   "toc_section_display": true,
   "toc_window_display": false
  }
 },
 "nbformat": 4,
 "nbformat_minor": 5
}
